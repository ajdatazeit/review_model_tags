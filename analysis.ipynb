{
  "nbformat": 4,
  "nbformat_minor": 0,
  "metadata": {
    "colab": {
      "name": "analysis.ipynb",
      "provenance": [],
      "collapsed_sections": []
    },
    "kernelspec": {
      "name": "python3",
      "display_name": "Python 3"
    },
    "language_info": {
      "name": "python"
    }
  },
  "cells": [
    {
      "cell_type": "markdown",
      "source": [
        "# **This notebook contain the whole pipeline of review model**"
      ],
      "metadata": {
        "id": "kOtRWCLiIxc1"
      }
    },
    {
      "cell_type": "markdown",
      "source": [
        "**code for generating the pharases using yake**"
      ],
      "metadata": {
        "id": "FBNxRIwxe9B-"
      }
    },
    {
      "cell_type": "code",
      "source": [
        "!pip install -U yake"
      ],
      "metadata": {
        "colab": {
          "base_uri": "https://localhost:8080/"
        },
        "id": "2s8aVsz1JCi1",
        "outputId": "7d7f0333-4250-479f-edba-965962f090c7"
      },
      "execution_count": 86,
      "outputs": [
        {
          "output_type": "stream",
          "name": "stdout",
          "text": [
            "Requirement already satisfied: yake in /usr/local/lib/python3.7/dist-packages (0.4.8)\n",
            "Requirement already satisfied: numpy in /usr/local/lib/python3.7/dist-packages (from yake) (1.21.5)\n",
            "Requirement already satisfied: click>=6.0 in /usr/local/lib/python3.7/dist-packages (from yake) (7.1.2)\n",
            "Requirement already satisfied: jellyfish in /usr/local/lib/python3.7/dist-packages (from yake) (0.9.0)\n",
            "Requirement already satisfied: tabulate in /usr/local/lib/python3.7/dist-packages (from yake) (0.8.9)\n",
            "Requirement already satisfied: networkx in /usr/local/lib/python3.7/dist-packages (from yake) (2.6.3)\n",
            "Requirement already satisfied: segtok in /usr/local/lib/python3.7/dist-packages (from yake) (1.5.11)\n",
            "Requirement already satisfied: regex in /usr/local/lib/python3.7/dist-packages (from segtok->yake) (2019.12.20)\n"
          ]
        }
      ]
    },
    {
      "cell_type": "code",
      "execution_count": 1,
      "metadata": {
        "id": "sYNqe-nDa7gr"
      },
      "outputs": [],
      "source": [
        "import pandas as pd\n",
        "import numpy as np\n",
        "import nltk \n",
        "import pickle\n",
        "from tqdm import tqdm\n",
        "from difflib import SequenceMatcher"
      ]
    },
    {
      "cell_type": "code",
      "source": [
        "data=pd.read_csv(\"/content/drive/MyDrive/review_api/review-model-api-main/douglas_reviews_sentences_2022-03-21.csv\")\n",
        "data.shape"
      ],
      "metadata": {
        "colab": {
          "base_uri": "https://localhost:8080/"
        },
        "id": "oWwnpqkebCZ0",
        "outputId": "03ca3a09-0d45-48a0-d120-888aaf458a19"
      },
      "execution_count": 88,
      "outputs": [
        {
          "output_type": "execute_result",
          "data": {
            "text/plain": [
              "(915904, 7)"
            ]
          },
          "metadata": {},
          "execution_count": 88
        }
      ]
    },
    {
      "cell_type": "code",
      "source": [
        "data.head(2)"
      ],
      "metadata": {
        "colab": {
          "base_uri": "https://localhost:8080/",
          "height": 190
        },
        "id": "aXpqsMQUL0ez",
        "outputId": "fca49801-785e-45bc-a031-225be3df2791"
      },
      "execution_count": 366,
      "outputs": [
        {
          "output_type": "execute_result",
          "data": {
            "text/plain": [
              "                  r_id               p_e_id  \\\n",
              "0 -9223328818815898130  9041810293446515692   \n",
              "1 -9223328818815898130  9041810293446515692   \n",
              "\n",
              "                                          sentence     mixed   neutral  \\\n",
              "0  the hair feels well cleaned yet well cared for.  0.000178  0.000738   \n",
              "1     the hair color stays bright for a long time.  0.000216  0.001654   \n",
              "\n",
              "   negative  positive                                            phrases  \n",
              "0  0.000038  0.999046                        ['hair feels well cleaned']  \n",
              "1  0.001242  0.996889  ['hair color stays bright', 'bright for a long...  "
            ],
            "text/html": [
              "\n",
              "  <div id=\"df-9556a699-854b-4137-9e09-ea8862697b6d\">\n",
              "    <div class=\"colab-df-container\">\n",
              "      <div>\n",
              "<style scoped>\n",
              "    .dataframe tbody tr th:only-of-type {\n",
              "        vertical-align: middle;\n",
              "    }\n",
              "\n",
              "    .dataframe tbody tr th {\n",
              "        vertical-align: top;\n",
              "    }\n",
              "\n",
              "    .dataframe thead th {\n",
              "        text-align: right;\n",
              "    }\n",
              "</style>\n",
              "<table border=\"1\" class=\"dataframe\">\n",
              "  <thead>\n",
              "    <tr style=\"text-align: right;\">\n",
              "      <th></th>\n",
              "      <th>r_id</th>\n",
              "      <th>p_e_id</th>\n",
              "      <th>sentence</th>\n",
              "      <th>mixed</th>\n",
              "      <th>neutral</th>\n",
              "      <th>negative</th>\n",
              "      <th>positive</th>\n",
              "      <th>phrases</th>\n",
              "    </tr>\n",
              "  </thead>\n",
              "  <tbody>\n",
              "    <tr>\n",
              "      <th>0</th>\n",
              "      <td>-9223328818815898130</td>\n",
              "      <td>9041810293446515692</td>\n",
              "      <td>the hair feels well cleaned yet well cared for.</td>\n",
              "      <td>0.000178</td>\n",
              "      <td>0.000738</td>\n",
              "      <td>0.000038</td>\n",
              "      <td>0.999046</td>\n",
              "      <td>['hair feels well cleaned']</td>\n",
              "    </tr>\n",
              "    <tr>\n",
              "      <th>1</th>\n",
              "      <td>-9223328818815898130</td>\n",
              "      <td>9041810293446515692</td>\n",
              "      <td>the hair color stays bright for a long time.</td>\n",
              "      <td>0.000216</td>\n",
              "      <td>0.001654</td>\n",
              "      <td>0.001242</td>\n",
              "      <td>0.996889</td>\n",
              "      <td>['hair color stays bright', 'bright for a long...</td>\n",
              "    </tr>\n",
              "  </tbody>\n",
              "</table>\n",
              "</div>\n",
              "      <button class=\"colab-df-convert\" onclick=\"convertToInteractive('df-9556a699-854b-4137-9e09-ea8862697b6d')\"\n",
              "              title=\"Convert this dataframe to an interactive table.\"\n",
              "              style=\"display:none;\">\n",
              "        \n",
              "  <svg xmlns=\"http://www.w3.org/2000/svg\" height=\"24px\"viewBox=\"0 0 24 24\"\n",
              "       width=\"24px\">\n",
              "    <path d=\"M0 0h24v24H0V0z\" fill=\"none\"/>\n",
              "    <path d=\"M18.56 5.44l.94 2.06.94-2.06 2.06-.94-2.06-.94-.94-2.06-.94 2.06-2.06.94zm-11 1L8.5 8.5l.94-2.06 2.06-.94-2.06-.94L8.5 2.5l-.94 2.06-2.06.94zm10 10l.94 2.06.94-2.06 2.06-.94-2.06-.94-.94-2.06-.94 2.06-2.06.94z\"/><path d=\"M17.41 7.96l-1.37-1.37c-.4-.4-.92-.59-1.43-.59-.52 0-1.04.2-1.43.59L10.3 9.45l-7.72 7.72c-.78.78-.78 2.05 0 2.83L4 21.41c.39.39.9.59 1.41.59.51 0 1.02-.2 1.41-.59l7.78-7.78 2.81-2.81c.8-.78.8-2.07 0-2.86zM5.41 20L4 18.59l7.72-7.72 1.47 1.35L5.41 20z\"/>\n",
              "  </svg>\n",
              "      </button>\n",
              "      \n",
              "  <style>\n",
              "    .colab-df-container {\n",
              "      display:flex;\n",
              "      flex-wrap:wrap;\n",
              "      gap: 12px;\n",
              "    }\n",
              "\n",
              "    .colab-df-convert {\n",
              "      background-color: #E8F0FE;\n",
              "      border: none;\n",
              "      border-radius: 50%;\n",
              "      cursor: pointer;\n",
              "      display: none;\n",
              "      fill: #1967D2;\n",
              "      height: 32px;\n",
              "      padding: 0 0 0 0;\n",
              "      width: 32px;\n",
              "    }\n",
              "\n",
              "    .colab-df-convert:hover {\n",
              "      background-color: #E2EBFA;\n",
              "      box-shadow: 0px 1px 2px rgba(60, 64, 67, 0.3), 0px 1px 3px 1px rgba(60, 64, 67, 0.15);\n",
              "      fill: #174EA6;\n",
              "    }\n",
              "\n",
              "    [theme=dark] .colab-df-convert {\n",
              "      background-color: #3B4455;\n",
              "      fill: #D2E3FC;\n",
              "    }\n",
              "\n",
              "    [theme=dark] .colab-df-convert:hover {\n",
              "      background-color: #434B5C;\n",
              "      box-shadow: 0px 1px 3px 1px rgba(0, 0, 0, 0.15);\n",
              "      filter: drop-shadow(0px 1px 2px rgba(0, 0, 0, 0.3));\n",
              "      fill: #FFFFFF;\n",
              "    }\n",
              "  </style>\n",
              "\n",
              "      <script>\n",
              "        const buttonEl =\n",
              "          document.querySelector('#df-9556a699-854b-4137-9e09-ea8862697b6d button.colab-df-convert');\n",
              "        buttonEl.style.display =\n",
              "          google.colab.kernel.accessAllowed ? 'block' : 'none';\n",
              "\n",
              "        async function convertToInteractive(key) {\n",
              "          const element = document.querySelector('#df-9556a699-854b-4137-9e09-ea8862697b6d');\n",
              "          const dataTable =\n",
              "            await google.colab.kernel.invokeFunction('convertToInteractive',\n",
              "                                                     [key], {});\n",
              "          if (!dataTable) return;\n",
              "\n",
              "          const docLinkHtml = 'Like what you see? Visit the ' +\n",
              "            '<a target=\"_blank\" href=https://colab.research.google.com/notebooks/data_table.ipynb>data table notebook</a>'\n",
              "            + ' to learn more about interactive tables.';\n",
              "          element.innerHTML = '';\n",
              "          dataTable['output_type'] = 'display_data';\n",
              "          await google.colab.output.renderOutput(dataTable, element);\n",
              "          const docLink = document.createElement('div');\n",
              "          docLink.innerHTML = docLinkHtml;\n",
              "          element.appendChild(docLink);\n",
              "        }\n",
              "      </script>\n",
              "    </div>\n",
              "  </div>\n",
              "  "
            ]
          },
          "metadata": {},
          "execution_count": 366
        }
      ]
    },
    {
      "cell_type": "markdown",
      "source": [
        "##initializing the yake"
      ],
      "metadata": {
        "id": "x5IlyfmObjuG"
      }
    },
    {
      "cell_type": "code",
      "source": [
        "#@title Initializing the yake { form-width: \"1%\" }\n",
        "import yake\n",
        "\n",
        "language = \"en\"\n",
        "max_ngram_size =5\n",
        "deduplication_threshold = 0.3\n",
        "numOfKeywords = 5\n",
        "custom_kw_extractor = yake.KeywordExtractor(lan=language, n=max_ngram_size, dedupLim=deduplication_threshold, top=numOfKeywords, features=None,)\n"
      ],
      "metadata": {
        "cellView": "form",
        "id": "JbZkZdzhKc7Q"
      },
      "execution_count": 90,
      "outputs": []
    },
    {
      "cell_type": "code",
      "source": [
        "#@title code to get phrases  { form-width: \"1%\" }\n",
        "from tqdm import tqdm\n",
        "\n",
        "def get_phrases(df):\n",
        "  keywords=[]\n",
        "  for i in tqdm(df[\"sentence\"]):\n",
        "    keyword = custom_kw_extractor.extract_keywords(i)\n",
        "    kwds=[]\n",
        "    if len(keyword)==0:\n",
        "      keywords.append([\"no phrase\"])\n",
        "    else:\n",
        "      for l in keyword:\n",
        "        if len(l[0].split(\" \"))>1:\n",
        "          kwds.append(l[0])\n",
        "      keywords.append(kwds)\n",
        "  return keywords\n",
        "\n",
        "\n",
        "def get_unigram_phrases(df):\n",
        "  keywords=[]\n",
        "  for i in tqdm(df[\"sentence\"]):\n",
        "    keyword = custom_kw_extractor.extract_keywords(i)\n",
        "    kwds=[]\n",
        "    if len(keyword)==0:\n",
        "      keywords.append([\"no phrase\"])\n",
        "    else:\n",
        "      for l in keyword:\n",
        "        kwds.append(l[0])\n",
        "      keywords.append(kwds)\n",
        "  return keywords"
      ],
      "metadata": {
        "cellView": "form",
        "id": "2ZKSs9cDKwEo"
      },
      "execution_count": 91,
      "outputs": []
    },
    {
      "cell_type": "code",
      "source": [
        "test_data=data[:10]"
      ],
      "metadata": {
        "id": "88IOnRRFIL2l"
      },
      "execution_count": 14,
      "outputs": []
    },
    {
      "cell_type": "code",
      "source": [
        "##select based on both\n",
        "data[\"phrases\"]=get_unigram_phrases(data)\n",
        "data[\"phrases\"]=get_phrases(data)"
      ],
      "metadata": {
        "id": "WFgioleRMRSE"
      },
      "execution_count": null,
      "outputs": []
    },
    {
      "cell_type": "code",
      "source": [
        "test_data.head(1)"
      ],
      "metadata": {
        "colab": {
          "base_uri": "https://localhost:8080/",
          "height": 124
        },
        "id": "SzFXBseEYyOc",
        "outputId": "bd92a304-60da-474a-a176-7c2953b2ad6d"
      },
      "execution_count": 357,
      "outputs": [
        {
          "output_type": "execute_result",
          "data": {
            "text/plain": [
              "                  r_id               p_e_id  \\\n",
              "0 -9223328818815898130  9041810293446515692   \n",
              "\n",
              "                                          sentence     mixed   neutral  \\\n",
              "0  The hair feels well cleaned yet well cared for.  0.000178  0.000738   \n",
              "\n",
              "   negative  positive                           phrases  \n",
              "0  0.000038  0.999046  [hair feels, feels well cleaned]  "
            ],
            "text/html": [
              "\n",
              "  <div id=\"df-5c1fa4b9-defb-4a3a-962f-11430f66ec07\">\n",
              "    <div class=\"colab-df-container\">\n",
              "      <div>\n",
              "<style scoped>\n",
              "    .dataframe tbody tr th:only-of-type {\n",
              "        vertical-align: middle;\n",
              "    }\n",
              "\n",
              "    .dataframe tbody tr th {\n",
              "        vertical-align: top;\n",
              "    }\n",
              "\n",
              "    .dataframe thead th {\n",
              "        text-align: right;\n",
              "    }\n",
              "</style>\n",
              "<table border=\"1\" class=\"dataframe\">\n",
              "  <thead>\n",
              "    <tr style=\"text-align: right;\">\n",
              "      <th></th>\n",
              "      <th>r_id</th>\n",
              "      <th>p_e_id</th>\n",
              "      <th>sentence</th>\n",
              "      <th>mixed</th>\n",
              "      <th>neutral</th>\n",
              "      <th>negative</th>\n",
              "      <th>positive</th>\n",
              "      <th>phrases</th>\n",
              "    </tr>\n",
              "  </thead>\n",
              "  <tbody>\n",
              "    <tr>\n",
              "      <th>0</th>\n",
              "      <td>-9223328818815898130</td>\n",
              "      <td>9041810293446515692</td>\n",
              "      <td>The hair feels well cleaned yet well cared for.</td>\n",
              "      <td>0.000178</td>\n",
              "      <td>0.000738</td>\n",
              "      <td>0.000038</td>\n",
              "      <td>0.999046</td>\n",
              "      <td>[hair feels, feels well cleaned]</td>\n",
              "    </tr>\n",
              "  </tbody>\n",
              "</table>\n",
              "</div>\n",
              "      <button class=\"colab-df-convert\" onclick=\"convertToInteractive('df-5c1fa4b9-defb-4a3a-962f-11430f66ec07')\"\n",
              "              title=\"Convert this dataframe to an interactive table.\"\n",
              "              style=\"display:none;\">\n",
              "        \n",
              "  <svg xmlns=\"http://www.w3.org/2000/svg\" height=\"24px\"viewBox=\"0 0 24 24\"\n",
              "       width=\"24px\">\n",
              "    <path d=\"M0 0h24v24H0V0z\" fill=\"none\"/>\n",
              "    <path d=\"M18.56 5.44l.94 2.06.94-2.06 2.06-.94-2.06-.94-.94-2.06-.94 2.06-2.06.94zm-11 1L8.5 8.5l.94-2.06 2.06-.94-2.06-.94L8.5 2.5l-.94 2.06-2.06.94zm10 10l.94 2.06.94-2.06 2.06-.94-2.06-.94-.94-2.06-.94 2.06-2.06.94z\"/><path d=\"M17.41 7.96l-1.37-1.37c-.4-.4-.92-.59-1.43-.59-.52 0-1.04.2-1.43.59L10.3 9.45l-7.72 7.72c-.78.78-.78 2.05 0 2.83L4 21.41c.39.39.9.59 1.41.59.51 0 1.02-.2 1.41-.59l7.78-7.78 2.81-2.81c.8-.78.8-2.07 0-2.86zM5.41 20L4 18.59l7.72-7.72 1.47 1.35L5.41 20z\"/>\n",
              "  </svg>\n",
              "      </button>\n",
              "      \n",
              "  <style>\n",
              "    .colab-df-container {\n",
              "      display:flex;\n",
              "      flex-wrap:wrap;\n",
              "      gap: 12px;\n",
              "    }\n",
              "\n",
              "    .colab-df-convert {\n",
              "      background-color: #E8F0FE;\n",
              "      border: none;\n",
              "      border-radius: 50%;\n",
              "      cursor: pointer;\n",
              "      display: none;\n",
              "      fill: #1967D2;\n",
              "      height: 32px;\n",
              "      padding: 0 0 0 0;\n",
              "      width: 32px;\n",
              "    }\n",
              "\n",
              "    .colab-df-convert:hover {\n",
              "      background-color: #E2EBFA;\n",
              "      box-shadow: 0px 1px 2px rgba(60, 64, 67, 0.3), 0px 1px 3px 1px rgba(60, 64, 67, 0.15);\n",
              "      fill: #174EA6;\n",
              "    }\n",
              "\n",
              "    [theme=dark] .colab-df-convert {\n",
              "      background-color: #3B4455;\n",
              "      fill: #D2E3FC;\n",
              "    }\n",
              "\n",
              "    [theme=dark] .colab-df-convert:hover {\n",
              "      background-color: #434B5C;\n",
              "      box-shadow: 0px 1px 3px 1px rgba(0, 0, 0, 0.15);\n",
              "      filter: drop-shadow(0px 1px 2px rgba(0, 0, 0, 0.3));\n",
              "      fill: #FFFFFF;\n",
              "    }\n",
              "  </style>\n",
              "\n",
              "      <script>\n",
              "        const buttonEl =\n",
              "          document.querySelector('#df-5c1fa4b9-defb-4a3a-962f-11430f66ec07 button.colab-df-convert');\n",
              "        buttonEl.style.display =\n",
              "          google.colab.kernel.accessAllowed ? 'block' : 'none';\n",
              "\n",
              "        async function convertToInteractive(key) {\n",
              "          const element = document.querySelector('#df-5c1fa4b9-defb-4a3a-962f-11430f66ec07');\n",
              "          const dataTable =\n",
              "            await google.colab.kernel.invokeFunction('convertToInteractive',\n",
              "                                                     [key], {});\n",
              "          if (!dataTable) return;\n",
              "\n",
              "          const docLinkHtml = 'Like what you see? Visit the ' +\n",
              "            '<a target=\"_blank\" href=https://colab.research.google.com/notebooks/data_table.ipynb>data table notebook</a>'\n",
              "            + ' to learn more about interactive tables.';\n",
              "          element.innerHTML = '';\n",
              "          dataTable['output_type'] = 'display_data';\n",
              "          await google.colab.output.renderOutput(dataTable, element);\n",
              "          const docLink = document.createElement('div');\n",
              "          docLink.innerHTML = docLinkHtml;\n",
              "          element.appendChild(docLink);\n",
              "        }\n",
              "      </script>\n",
              "    </div>\n",
              "  </div>\n",
              "  "
            ]
          },
          "metadata": {},
          "execution_count": 357
        }
      ]
    },
    {
      "cell_type": "code",
      "source": [
        "# data.to_csv(\"/content/drive/MyDrive/review_api/review-model-api-main/processed_csv/unigram_phrases.csv\",index=None)"
      ],
      "metadata": {
        "id": "vjNPJm1JMbBi"
      },
      "execution_count": 30,
      "outputs": []
    },
    {
      "cell_type": "markdown",
      "source": [
        "## **now to generate the tags from the phrases**"
      ],
      "metadata": {
        "id": "GFf-Pe0Ufl0v"
      }
    },
    {
      "cell_type": "code",
      "source": [
        "data=pd.read_csv(\"/content/drive/MyDrive/review_api/review-model-api-main/p_id_data.csv\")\n",
        "data.shape"
      ],
      "metadata": {
        "colab": {
          "base_uri": "https://localhost:8080/"
        },
        "id": "PHGSVKJRGH9n",
        "outputId": "2ff11d5c-8089-44ba-882c-621271520333"
      },
      "execution_count": 223,
      "outputs": [
        {
          "output_type": "execute_result",
          "data": {
            "text/plain": [
              "(915904, 8)"
            ]
          },
          "metadata": {},
          "execution_count": 223
        }
      ]
    },
    {
      "cell_type": "code",
      "source": [
        "data.head(2)"
      ],
      "metadata": {
        "colab": {
          "base_uri": "https://localhost:8080/",
          "height": 190
        },
        "id": "5jnK4JjpbQXf",
        "outputId": "64bac952-9253-49bf-ee15-175f00fdbe95"
      },
      "execution_count": 224,
      "outputs": [
        {
          "output_type": "execute_result",
          "data": {
            "text/plain": [
              "                  r_id               p_e_id  \\\n",
              "0 -9223328818815898130  9041810293446515692   \n",
              "1 -9223328818815898130  9041810293446515692   \n",
              "\n",
              "                                          sentence     mixed   neutral  \\\n",
              "0  the hair feels well cleaned yet well cared for.  0.000178  0.000738   \n",
              "1     the hair color stays bright for a long time.  0.000216  0.001654   \n",
              "\n",
              "   negative  positive                                            phrases  \n",
              "0  0.000038  0.999046                        ['hair feels well cleaned']  \n",
              "1  0.001242  0.996889  ['hair color stays bright', 'bright for a long...  "
            ],
            "text/html": [
              "\n",
              "  <div id=\"df-cbe4cb7d-7d76-43f6-9ae6-7b91ff55196e\">\n",
              "    <div class=\"colab-df-container\">\n",
              "      <div>\n",
              "<style scoped>\n",
              "    .dataframe tbody tr th:only-of-type {\n",
              "        vertical-align: middle;\n",
              "    }\n",
              "\n",
              "    .dataframe tbody tr th {\n",
              "        vertical-align: top;\n",
              "    }\n",
              "\n",
              "    .dataframe thead th {\n",
              "        text-align: right;\n",
              "    }\n",
              "</style>\n",
              "<table border=\"1\" class=\"dataframe\">\n",
              "  <thead>\n",
              "    <tr style=\"text-align: right;\">\n",
              "      <th></th>\n",
              "      <th>r_id</th>\n",
              "      <th>p_e_id</th>\n",
              "      <th>sentence</th>\n",
              "      <th>mixed</th>\n",
              "      <th>neutral</th>\n",
              "      <th>negative</th>\n",
              "      <th>positive</th>\n",
              "      <th>phrases</th>\n",
              "    </tr>\n",
              "  </thead>\n",
              "  <tbody>\n",
              "    <tr>\n",
              "      <th>0</th>\n",
              "      <td>-9223328818815898130</td>\n",
              "      <td>9041810293446515692</td>\n",
              "      <td>the hair feels well cleaned yet well cared for.</td>\n",
              "      <td>0.000178</td>\n",
              "      <td>0.000738</td>\n",
              "      <td>0.000038</td>\n",
              "      <td>0.999046</td>\n",
              "      <td>['hair feels well cleaned']</td>\n",
              "    </tr>\n",
              "    <tr>\n",
              "      <th>1</th>\n",
              "      <td>-9223328818815898130</td>\n",
              "      <td>9041810293446515692</td>\n",
              "      <td>the hair color stays bright for a long time.</td>\n",
              "      <td>0.000216</td>\n",
              "      <td>0.001654</td>\n",
              "      <td>0.001242</td>\n",
              "      <td>0.996889</td>\n",
              "      <td>['hair color stays bright', 'bright for a long...</td>\n",
              "    </tr>\n",
              "  </tbody>\n",
              "</table>\n",
              "</div>\n",
              "      <button class=\"colab-df-convert\" onclick=\"convertToInteractive('df-cbe4cb7d-7d76-43f6-9ae6-7b91ff55196e')\"\n",
              "              title=\"Convert this dataframe to an interactive table.\"\n",
              "              style=\"display:none;\">\n",
              "        \n",
              "  <svg xmlns=\"http://www.w3.org/2000/svg\" height=\"24px\"viewBox=\"0 0 24 24\"\n",
              "       width=\"24px\">\n",
              "    <path d=\"M0 0h24v24H0V0z\" fill=\"none\"/>\n",
              "    <path d=\"M18.56 5.44l.94 2.06.94-2.06 2.06-.94-2.06-.94-.94-2.06-.94 2.06-2.06.94zm-11 1L8.5 8.5l.94-2.06 2.06-.94-2.06-.94L8.5 2.5l-.94 2.06-2.06.94zm10 10l.94 2.06.94-2.06 2.06-.94-2.06-.94-.94-2.06-.94 2.06-2.06.94z\"/><path d=\"M17.41 7.96l-1.37-1.37c-.4-.4-.92-.59-1.43-.59-.52 0-1.04.2-1.43.59L10.3 9.45l-7.72 7.72c-.78.78-.78 2.05 0 2.83L4 21.41c.39.39.9.59 1.41.59.51 0 1.02-.2 1.41-.59l7.78-7.78 2.81-2.81c.8-.78.8-2.07 0-2.86zM5.41 20L4 18.59l7.72-7.72 1.47 1.35L5.41 20z\"/>\n",
              "  </svg>\n",
              "      </button>\n",
              "      \n",
              "  <style>\n",
              "    .colab-df-container {\n",
              "      display:flex;\n",
              "      flex-wrap:wrap;\n",
              "      gap: 12px;\n",
              "    }\n",
              "\n",
              "    .colab-df-convert {\n",
              "      background-color: #E8F0FE;\n",
              "      border: none;\n",
              "      border-radius: 50%;\n",
              "      cursor: pointer;\n",
              "      display: none;\n",
              "      fill: #1967D2;\n",
              "      height: 32px;\n",
              "      padding: 0 0 0 0;\n",
              "      width: 32px;\n",
              "    }\n",
              "\n",
              "    .colab-df-convert:hover {\n",
              "      background-color: #E2EBFA;\n",
              "      box-shadow: 0px 1px 2px rgba(60, 64, 67, 0.3), 0px 1px 3px 1px rgba(60, 64, 67, 0.15);\n",
              "      fill: #174EA6;\n",
              "    }\n",
              "\n",
              "    [theme=dark] .colab-df-convert {\n",
              "      background-color: #3B4455;\n",
              "      fill: #D2E3FC;\n",
              "    }\n",
              "\n",
              "    [theme=dark] .colab-df-convert:hover {\n",
              "      background-color: #434B5C;\n",
              "      box-shadow: 0px 1px 3px 1px rgba(0, 0, 0, 0.15);\n",
              "      filter: drop-shadow(0px 1px 2px rgba(0, 0, 0, 0.3));\n",
              "      fill: #FFFFFF;\n",
              "    }\n",
              "  </style>\n",
              "\n",
              "      <script>\n",
              "        const buttonEl =\n",
              "          document.querySelector('#df-cbe4cb7d-7d76-43f6-9ae6-7b91ff55196e button.colab-df-convert');\n",
              "        buttonEl.style.display =\n",
              "          google.colab.kernel.accessAllowed ? 'block' : 'none';\n",
              "\n",
              "        async function convertToInteractive(key) {\n",
              "          const element = document.querySelector('#df-cbe4cb7d-7d76-43f6-9ae6-7b91ff55196e');\n",
              "          const dataTable =\n",
              "            await google.colab.kernel.invokeFunction('convertToInteractive',\n",
              "                                                     [key], {});\n",
              "          if (!dataTable) return;\n",
              "\n",
              "          const docLinkHtml = 'Like what you see? Visit the ' +\n",
              "            '<a target=\"_blank\" href=https://colab.research.google.com/notebooks/data_table.ipynb>data table notebook</a>'\n",
              "            + ' to learn more about interactive tables.';\n",
              "          element.innerHTML = '';\n",
              "          dataTable['output_type'] = 'display_data';\n",
              "          await google.colab.output.renderOutput(dataTable, element);\n",
              "          const docLink = document.createElement('div');\n",
              "          docLink.innerHTML = docLinkHtml;\n",
              "          element.appendChild(docLink);\n",
              "        }\n",
              "      </script>\n",
              "    </div>\n",
              "  </div>\n",
              "  "
            ]
          },
          "metadata": {},
          "execution_count": 224
        }
      ]
    },
    {
      "cell_type": "code",
      "source": [
        "#@title get stopwords and most frequent unigrams { form-width: \"1%\" }\n",
        "\n",
        "import re\n",
        "\n",
        "\n",
        "def get_stop_words(stop_file_path):\n",
        "    \"\"\"load stop words \"\"\"\n",
        "    \n",
        "    with open(\"/content/drive/MyDrive/review_api/review-model-api-main/stopwords.txt\", 'r', encoding=\"utf-8\") as f:\n",
        "        stopwords = f.readlines()\n",
        "        stop_set = set(m.strip() for m in stopwords)\n",
        "        return frozenset(stop_set)\n",
        "\n",
        "#load a set of stop word\n",
        "stopwords=get_stop_words(\"resources/stopwords.txt\")\n",
        "\n",
        "len(stopwords)\n",
        "\n",
        "\n",
        "\n",
        "def get_top_unigrams():\n",
        "  with open(\"/content/drive/MyDrive/review_api/review-model-api-main/processed_csv/unwanted_unigrams.txt\", 'r', encoding=\"utf-8\") as f:\n",
        "      needed_unigrams = f.readlines()\n",
        "      needed_unigrams = list(m.strip() for m in needed_unigrams)\n",
        "  needed_unigrams=needed_unigrams[:400]\n",
        "  return needed_unigrams\n",
        "\n",
        "needed_unigrams=get_top_unigrams()\n",
        "\n"
      ],
      "metadata": {
        "id": "JyzYz54EbMSO",
        "colab": {
          "base_uri": "https://localhost:8080/"
        },
        "cellView": "form",
        "outputId": "9cdf6d20-3b56-4204-c8ee-824a014c761c"
      },
      "execution_count": 226,
      "outputs": [
        {
          "output_type": "execute_result",
          "data": {
            "text/plain": [
              "398"
            ]
          },
          "metadata": {},
          "execution_count": 226
        }
      ]
    },
    {
      "cell_type": "code",
      "source": [
        "#@title splitting code { form-width: \"1%\" }\n",
        "def splitting(text):\n",
        "  kwds=[]\n",
        "  spl=text.split(\",\")\n",
        "  length=len(spl)\n",
        "  if length > 5:\n",
        "    length=5\n",
        "  if length>0:\n",
        "    spl=spl[:length]\n",
        "    for i in spl:\n",
        "      i=i.replace(\"'\",\"\")\n",
        "      i=i.replace(\"]\",\"\")\n",
        "      i=i.replace(\"[\",\"\")\n",
        "      i=i.replace(\"\\\"\",\"\")\n",
        "      i=i.strip()\n",
        "      i=i.lower()\n",
        "      kwds.append(i)\n",
        "  else:\n",
        "    kwds.append(\"empty\")\n",
        "  return kwds \n",
        "\n"
      ],
      "metadata": {
        "id": "9fj4tiAoztBL",
        "cellView": "form"
      },
      "execution_count": 227,
      "outputs": []
    },
    {
      "cell_type": "code",
      "source": [
        "df=data.copy()\n",
        "df.head(2)"
      ],
      "metadata": {
        "id": "VQ36njG9bMYO",
        "colab": {
          "base_uri": "https://localhost:8080/",
          "height": 190
        },
        "outputId": "9644f5ac-0e85-4a0f-9d55-ffee5ce03dc9"
      },
      "execution_count": 363,
      "outputs": [
        {
          "output_type": "execute_result",
          "data": {
            "text/plain": [
              "                  r_id               p_e_id  \\\n",
              "0 -9223328818815898130  9041810293446515692   \n",
              "1 -9223328818815898130  9041810293446515692   \n",
              "\n",
              "                                          sentence     mixed   neutral  \\\n",
              "0  the hair feels well cleaned yet well cared for.  0.000178  0.000738   \n",
              "1     the hair color stays bright for a long time.  0.000216  0.001654   \n",
              "\n",
              "   negative  positive                                            phrases  \n",
              "0  0.000038  0.999046                        ['hair feels well cleaned']  \n",
              "1  0.001242  0.996889  ['hair color stays bright', 'bright for a long...  "
            ],
            "text/html": [
              "\n",
              "  <div id=\"df-c4dd5b2a-195c-4757-b677-bc6d1e4214fe\">\n",
              "    <div class=\"colab-df-container\">\n",
              "      <div>\n",
              "<style scoped>\n",
              "    .dataframe tbody tr th:only-of-type {\n",
              "        vertical-align: middle;\n",
              "    }\n",
              "\n",
              "    .dataframe tbody tr th {\n",
              "        vertical-align: top;\n",
              "    }\n",
              "\n",
              "    .dataframe thead th {\n",
              "        text-align: right;\n",
              "    }\n",
              "</style>\n",
              "<table border=\"1\" class=\"dataframe\">\n",
              "  <thead>\n",
              "    <tr style=\"text-align: right;\">\n",
              "      <th></th>\n",
              "      <th>r_id</th>\n",
              "      <th>p_e_id</th>\n",
              "      <th>sentence</th>\n",
              "      <th>mixed</th>\n",
              "      <th>neutral</th>\n",
              "      <th>negative</th>\n",
              "      <th>positive</th>\n",
              "      <th>phrases</th>\n",
              "    </tr>\n",
              "  </thead>\n",
              "  <tbody>\n",
              "    <tr>\n",
              "      <th>0</th>\n",
              "      <td>-9223328818815898130</td>\n",
              "      <td>9041810293446515692</td>\n",
              "      <td>the hair feels well cleaned yet well cared for.</td>\n",
              "      <td>0.000178</td>\n",
              "      <td>0.000738</td>\n",
              "      <td>0.000038</td>\n",
              "      <td>0.999046</td>\n",
              "      <td>['hair feels well cleaned']</td>\n",
              "    </tr>\n",
              "    <tr>\n",
              "      <th>1</th>\n",
              "      <td>-9223328818815898130</td>\n",
              "      <td>9041810293446515692</td>\n",
              "      <td>the hair color stays bright for a long time.</td>\n",
              "      <td>0.000216</td>\n",
              "      <td>0.001654</td>\n",
              "      <td>0.001242</td>\n",
              "      <td>0.996889</td>\n",
              "      <td>['hair color stays bright', 'bright for a long...</td>\n",
              "    </tr>\n",
              "  </tbody>\n",
              "</table>\n",
              "</div>\n",
              "      <button class=\"colab-df-convert\" onclick=\"convertToInteractive('df-c4dd5b2a-195c-4757-b677-bc6d1e4214fe')\"\n",
              "              title=\"Convert this dataframe to an interactive table.\"\n",
              "              style=\"display:none;\">\n",
              "        \n",
              "  <svg xmlns=\"http://www.w3.org/2000/svg\" height=\"24px\"viewBox=\"0 0 24 24\"\n",
              "       width=\"24px\">\n",
              "    <path d=\"M0 0h24v24H0V0z\" fill=\"none\"/>\n",
              "    <path d=\"M18.56 5.44l.94 2.06.94-2.06 2.06-.94-2.06-.94-.94-2.06-.94 2.06-2.06.94zm-11 1L8.5 8.5l.94-2.06 2.06-.94-2.06-.94L8.5 2.5l-.94 2.06-2.06.94zm10 10l.94 2.06.94-2.06 2.06-.94-2.06-.94-.94-2.06-.94 2.06-2.06.94z\"/><path d=\"M17.41 7.96l-1.37-1.37c-.4-.4-.92-.59-1.43-.59-.52 0-1.04.2-1.43.59L10.3 9.45l-7.72 7.72c-.78.78-.78 2.05 0 2.83L4 21.41c.39.39.9.59 1.41.59.51 0 1.02-.2 1.41-.59l7.78-7.78 2.81-2.81c.8-.78.8-2.07 0-2.86zM5.41 20L4 18.59l7.72-7.72 1.47 1.35L5.41 20z\"/>\n",
              "  </svg>\n",
              "      </button>\n",
              "      \n",
              "  <style>\n",
              "    .colab-df-container {\n",
              "      display:flex;\n",
              "      flex-wrap:wrap;\n",
              "      gap: 12px;\n",
              "    }\n",
              "\n",
              "    .colab-df-convert {\n",
              "      background-color: #E8F0FE;\n",
              "      border: none;\n",
              "      border-radius: 50%;\n",
              "      cursor: pointer;\n",
              "      display: none;\n",
              "      fill: #1967D2;\n",
              "      height: 32px;\n",
              "      padding: 0 0 0 0;\n",
              "      width: 32px;\n",
              "    }\n",
              "\n",
              "    .colab-df-convert:hover {\n",
              "      background-color: #E2EBFA;\n",
              "      box-shadow: 0px 1px 2px rgba(60, 64, 67, 0.3), 0px 1px 3px 1px rgba(60, 64, 67, 0.15);\n",
              "      fill: #174EA6;\n",
              "    }\n",
              "\n",
              "    [theme=dark] .colab-df-convert {\n",
              "      background-color: #3B4455;\n",
              "      fill: #D2E3FC;\n",
              "    }\n",
              "\n",
              "    [theme=dark] .colab-df-convert:hover {\n",
              "      background-color: #434B5C;\n",
              "      box-shadow: 0px 1px 3px 1px rgba(0, 0, 0, 0.15);\n",
              "      filter: drop-shadow(0px 1px 2px rgba(0, 0, 0, 0.3));\n",
              "      fill: #FFFFFF;\n",
              "    }\n",
              "  </style>\n",
              "\n",
              "      <script>\n",
              "        const buttonEl =\n",
              "          document.querySelector('#df-c4dd5b2a-195c-4757-b677-bc6d1e4214fe button.colab-df-convert');\n",
              "        buttonEl.style.display =\n",
              "          google.colab.kernel.accessAllowed ? 'block' : 'none';\n",
              "\n",
              "        async function convertToInteractive(key) {\n",
              "          const element = document.querySelector('#df-c4dd5b2a-195c-4757-b677-bc6d1e4214fe');\n",
              "          const dataTable =\n",
              "            await google.colab.kernel.invokeFunction('convertToInteractive',\n",
              "                                                     [key], {});\n",
              "          if (!dataTable) return;\n",
              "\n",
              "          const docLinkHtml = 'Like what you see? Visit the ' +\n",
              "            '<a target=\"_blank\" href=https://colab.research.google.com/notebooks/data_table.ipynb>data table notebook</a>'\n",
              "            + ' to learn more about interactive tables.';\n",
              "          element.innerHTML = '';\n",
              "          dataTable['output_type'] = 'display_data';\n",
              "          await google.colab.output.renderOutput(dataTable, element);\n",
              "          const docLink = document.createElement('div');\n",
              "          docLink.innerHTML = docLinkHtml;\n",
              "          element.appendChild(docLink);\n",
              "        }\n",
              "      </script>\n",
              "    </div>\n",
              "  </div>\n",
              "  "
            ]
          },
          "metadata": {},
          "execution_count": 363
        }
      ]
    },
    {
      "cell_type": "code",
      "source": [
        "df[\"phrases\"]=[splitting(x) for x in df[\"phrases\"]]"
      ],
      "metadata": {
        "id": "2UJuAPnrBAmb"
      },
      "execution_count": 230,
      "outputs": []
    },
    {
      "cell_type": "code",
      "source": [
        "#@title find unigrams with no bigrams { form-width: \"1%\" }\n",
        "def find_unigrams_with_no_bigrams(df):\n",
        "  needed_unigrams={}\n",
        "  for i in tqdm(df[\"phrases\"]):\n",
        "    if len(i)==1:\n",
        "      needed_unigrams.update({i[0]:1})\n",
        "    elif len(i)>1:\n",
        "      flag=0\n",
        "      for j in i:\n",
        "        # print(j)\n",
        "        if len(j.split(\" \"))>1:\n",
        "          flag=1\n",
        "          break\n",
        "      if flag==0:\n",
        "        needed_unigrams.update({i[0]:1})\n",
        "  return needed_unigrams\n",
        "\n",
        "\n",
        "    \n",
        "needed_unigrams=find_unigrams_with_no_bigrams(df)\n",
        "len(needed_unigrams)"
      ],
      "metadata": {
        "colab": {
          "base_uri": "https://localhost:8080/"
        },
        "cellView": "form",
        "id": "OtTvynabm-iH",
        "outputId": "7ca81fad-e3d8-44d6-db4e-4be6e4b1b37d"
      },
      "execution_count": 233,
      "outputs": [
        {
          "output_type": "stream",
          "name": "stderr",
          "text": [
            "100%|██████████| 915904/915904 [00:01<00:00, 854339.21it/s]\n"
          ]
        },
        {
          "output_type": "execute_result",
          "data": {
            "text/plain": [
              "162863"
            ]
          },
          "metadata": {},
          "execution_count": 233
        }
      ]
    },
    {
      "cell_type": "code",
      "source": [
        "list(needed_unigrams.items())[:10]"
      ],
      "metadata": {
        "colab": {
          "base_uri": "https://localhost:8080/"
        },
        "id": "KCvmxpvNo8Bi",
        "outputId": "d42f1ffc-a37f-414d-e0e6-90ab85dcd59b"
      },
      "execution_count": 234,
      "outputs": [
        {
          "output_type": "execute_result",
          "data": {
            "text/plain": [
              "[('hair feels well cleaned', 1),\n",
              " ('fragrance for a long time', 1),\n",
              " ('long time', 1),\n",
              " ('enthusiastic about this fragrance', 1),\n",
              " ('nice as a gift', 1),\n",
              " ('great product and great scent', 1),\n",
              " ('love the heat balm', 1),\n",
              " ('buy recommendation', 1),\n",
              " ('retains its liveliness', 1),\n",
              " ('', 1)]"
            ]
          },
          "metadata": {},
          "execution_count": 234
        }
      ]
    },
    {
      "cell_type": "code",
      "source": [
        "count=0\n",
        "for i in df[\"phrases\"]:\n",
        "  if len(i)>4:\n",
        "    count+=1\n",
        "print(count)\n"
      ],
      "metadata": {
        "colab": {
          "base_uri": "https://localhost:8080/"
        },
        "id": "KzeHeh36pnHC",
        "outputId": "235a57ec-be20-4673-da42-2c84dd170494"
      },
      "execution_count": 137,
      "outputs": [
        {
          "output_type": "stream",
          "name": "stdout",
          "text": [
            "0\n"
          ]
        }
      ]
    },
    {
      "cell_type": "code",
      "source": [
        "#@title add top 5 phrases { form-width: \"1%\" }\n",
        "\n",
        "    \n",
        "def add_phrases(df):\n",
        "  ph1,ph2,ph3,ph4,ph5=[],[],[],[],[]\n",
        "  lists={0:ph1,1:ph2,2:ph3,3:ph4,4:ph5}\n",
        "  for ph in tqdm(df[\"phrases\"]):\n",
        "    length=len(ph)\n",
        "    for i in range(length):\n",
        "      lists[i].append(ph[i])\n",
        "    for j in range(length,5):\n",
        "      lists[j].append(\"\")\n",
        "  print(len(ph1),len(ph2),len(ph3),len(ph4),len(ph5))\n",
        "  df[\"ph1\"]=ph1\n",
        "  df[\"ph2\"]=ph2\n",
        "  df[\"ph3\"]=ph3\n",
        "  df[\"ph4\"]=ph4\n",
        "  df[\"ph5\"]=ph5\n",
        "\n",
        "  return df\n",
        "\n",
        "df=add_phrases(df.copy())"
      ],
      "metadata": {
        "colab": {
          "base_uri": "https://localhost:8080/"
        },
        "id": "So6U0Kdtdsrh",
        "outputId": "fdb0d416-05f2-43bd-ad42-f1b27c700059",
        "cellView": "form"
      },
      "execution_count": 140,
      "outputs": [
        {
          "output_type": "stream",
          "name": "stderr",
          "text": [
            "100%|██████████| 915904/915904 [00:01<00:00, 503017.43it/s]\n"
          ]
        },
        {
          "output_type": "stream",
          "name": "stdout",
          "text": [
            "915904 915904 915904 915904 915904\n"
          ]
        }
      ]
    },
    {
      "cell_type": "code",
      "source": [
        "df.head(1)"
      ],
      "metadata": {
        "colab": {
          "base_uri": "https://localhost:8080/",
          "height": 80
        },
        "id": "taf9S_h_f7UU",
        "outputId": "b65fffb3-1283-4f42-e0ec-7c01b34e8f52"
      },
      "execution_count": 236,
      "outputs": [
        {
          "output_type": "execute_result",
          "data": {
            "text/plain": [
              "                  r_id               p_e_id  \\\n",
              "0 -9223328818815898130  9041810293446515692   \n",
              "\n",
              "                                          sentence     mixed   neutral  \\\n",
              "0  the hair feels well cleaned yet well cared for.  0.000178  0.000738   \n",
              "\n",
              "   negative  positive                    phrases  \n",
              "0  0.000038  0.999046  [hair feels well cleaned]  "
            ],
            "text/html": [
              "\n",
              "  <div id=\"df-5e7578a3-d075-4f67-9965-1fbea77afc66\">\n",
              "    <div class=\"colab-df-container\">\n",
              "      <div>\n",
              "<style scoped>\n",
              "    .dataframe tbody tr th:only-of-type {\n",
              "        vertical-align: middle;\n",
              "    }\n",
              "\n",
              "    .dataframe tbody tr th {\n",
              "        vertical-align: top;\n",
              "    }\n",
              "\n",
              "    .dataframe thead th {\n",
              "        text-align: right;\n",
              "    }\n",
              "</style>\n",
              "<table border=\"1\" class=\"dataframe\">\n",
              "  <thead>\n",
              "    <tr style=\"text-align: right;\">\n",
              "      <th></th>\n",
              "      <th>r_id</th>\n",
              "      <th>p_e_id</th>\n",
              "      <th>sentence</th>\n",
              "      <th>mixed</th>\n",
              "      <th>neutral</th>\n",
              "      <th>negative</th>\n",
              "      <th>positive</th>\n",
              "      <th>phrases</th>\n",
              "    </tr>\n",
              "  </thead>\n",
              "  <tbody>\n",
              "    <tr>\n",
              "      <th>0</th>\n",
              "      <td>-9223328818815898130</td>\n",
              "      <td>9041810293446515692</td>\n",
              "      <td>the hair feels well cleaned yet well cared for.</td>\n",
              "      <td>0.000178</td>\n",
              "      <td>0.000738</td>\n",
              "      <td>0.000038</td>\n",
              "      <td>0.999046</td>\n",
              "      <td>[hair feels well cleaned]</td>\n",
              "    </tr>\n",
              "  </tbody>\n",
              "</table>\n",
              "</div>\n",
              "      <button class=\"colab-df-convert\" onclick=\"convertToInteractive('df-5e7578a3-d075-4f67-9965-1fbea77afc66')\"\n",
              "              title=\"Convert this dataframe to an interactive table.\"\n",
              "              style=\"display:none;\">\n",
              "        \n",
              "  <svg xmlns=\"http://www.w3.org/2000/svg\" height=\"24px\"viewBox=\"0 0 24 24\"\n",
              "       width=\"24px\">\n",
              "    <path d=\"M0 0h24v24H0V0z\" fill=\"none\"/>\n",
              "    <path d=\"M18.56 5.44l.94 2.06.94-2.06 2.06-.94-2.06-.94-.94-2.06-.94 2.06-2.06.94zm-11 1L8.5 8.5l.94-2.06 2.06-.94-2.06-.94L8.5 2.5l-.94 2.06-2.06.94zm10 10l.94 2.06.94-2.06 2.06-.94-2.06-.94-.94-2.06-.94 2.06-2.06.94z\"/><path d=\"M17.41 7.96l-1.37-1.37c-.4-.4-.92-.59-1.43-.59-.52 0-1.04.2-1.43.59L10.3 9.45l-7.72 7.72c-.78.78-.78 2.05 0 2.83L4 21.41c.39.39.9.59 1.41.59.51 0 1.02-.2 1.41-.59l7.78-7.78 2.81-2.81c.8-.78.8-2.07 0-2.86zM5.41 20L4 18.59l7.72-7.72 1.47 1.35L5.41 20z\"/>\n",
              "  </svg>\n",
              "      </button>\n",
              "      \n",
              "  <style>\n",
              "    .colab-df-container {\n",
              "      display:flex;\n",
              "      flex-wrap:wrap;\n",
              "      gap: 12px;\n",
              "    }\n",
              "\n",
              "    .colab-df-convert {\n",
              "      background-color: #E8F0FE;\n",
              "      border: none;\n",
              "      border-radius: 50%;\n",
              "      cursor: pointer;\n",
              "      display: none;\n",
              "      fill: #1967D2;\n",
              "      height: 32px;\n",
              "      padding: 0 0 0 0;\n",
              "      width: 32px;\n",
              "    }\n",
              "\n",
              "    .colab-df-convert:hover {\n",
              "      background-color: #E2EBFA;\n",
              "      box-shadow: 0px 1px 2px rgba(60, 64, 67, 0.3), 0px 1px 3px 1px rgba(60, 64, 67, 0.15);\n",
              "      fill: #174EA6;\n",
              "    }\n",
              "\n",
              "    [theme=dark] .colab-df-convert {\n",
              "      background-color: #3B4455;\n",
              "      fill: #D2E3FC;\n",
              "    }\n",
              "\n",
              "    [theme=dark] .colab-df-convert:hover {\n",
              "      background-color: #434B5C;\n",
              "      box-shadow: 0px 1px 3px 1px rgba(0, 0, 0, 0.15);\n",
              "      filter: drop-shadow(0px 1px 2px rgba(0, 0, 0, 0.3));\n",
              "      fill: #FFFFFF;\n",
              "    }\n",
              "  </style>\n",
              "\n",
              "      <script>\n",
              "        const buttonEl =\n",
              "          document.querySelector('#df-5e7578a3-d075-4f67-9965-1fbea77afc66 button.colab-df-convert');\n",
              "        buttonEl.style.display =\n",
              "          google.colab.kernel.accessAllowed ? 'block' : 'none';\n",
              "\n",
              "        async function convertToInteractive(key) {\n",
              "          const element = document.querySelector('#df-5e7578a3-d075-4f67-9965-1fbea77afc66');\n",
              "          const dataTable =\n",
              "            await google.colab.kernel.invokeFunction('convertToInteractive',\n",
              "                                                     [key], {});\n",
              "          if (!dataTable) return;\n",
              "\n",
              "          const docLinkHtml = 'Like what you see? Visit the ' +\n",
              "            '<a target=\"_blank\" href=https://colab.research.google.com/notebooks/data_table.ipynb>data table notebook</a>'\n",
              "            + ' to learn more about interactive tables.';\n",
              "          element.innerHTML = '';\n",
              "          dataTable['output_type'] = 'display_data';\n",
              "          await google.colab.output.renderOutput(dataTable, element);\n",
              "          const docLink = document.createElement('div');\n",
              "          docLink.innerHTML = docLinkHtml;\n",
              "          element.appendChild(docLink);\n",
              "        }\n",
              "      </script>\n",
              "    </div>\n",
              "  </div>\n",
              "  "
            ]
          },
          "metadata": {},
          "execution_count": 236
        }
      ]
    },
    {
      "cell_type": "code",
      "source": [
        "#@title clean the phrases { form-width: \"1%\", display-mode: \"both\" }\n",
        "def clean_phrase(phrases):\n",
        "  all_pharases=[]\n",
        "  for i in phrases:\n",
        "    for j in i:\n",
        "      if j!=\"empty\" and len(j.split(\" \"))>0 and j!=\" \":\n",
        "        all_pharases.append(j)\n",
        "  return all_pharases\n"
      ],
      "metadata": {
        "id": "_ePR10WwbXsP"
      },
      "execution_count": 142,
      "outputs": []
    },
    {
      "cell_type": "code",
      "source": [
        "all_pharases=clean_phrase(df[\"phrases\"])\n",
        "len(all_pharases)"
      ],
      "metadata": {
        "colab": {
          "base_uri": "https://localhost:8080/"
        },
        "id": "xZkiGfUUbXu0",
        "outputId": "4cc73650-3725-471a-e249-2688511a555e"
      },
      "execution_count": 237,
      "outputs": [
        {
          "output_type": "execute_result",
          "data": {
            "text/plain": [
              "1765841"
            ]
          },
          "metadata": {},
          "execution_count": 237
        }
      ]
    },
    {
      "cell_type": "code",
      "source": [
        "all_pharases=[i for i in all_pharases if len(i.split(\" \"))>1]\n",
        "len(all_pharases)"
      ],
      "metadata": {
        "colab": {
          "base_uri": "https://localhost:8080/"
        },
        "id": "voFZ0jd8bXxp",
        "outputId": "5aeb4cdb-3702-4471-d7eb-81abbcdbf06d"
      },
      "execution_count": 238,
      "outputs": [
        {
          "output_type": "execute_result",
          "data": {
            "text/plain": [
              "1657648"
            ]
          },
          "metadata": {},
          "execution_count": 238
        }
      ]
    },
    {
      "cell_type": "code",
      "source": [
        "#@title find unigrams and bigrams { form-width: \"1%\" }\n",
        "def find_unigram(lis):\n",
        "  vocab={}\n",
        "  sorted_dict = {}\n",
        "  for phrase in tqdm(lis):\n",
        "    words=phrase.split(\" \")\n",
        "    for word in words:\n",
        "      if word in needed_unigrams:\n",
        "        if word not in stopwords and len(word)>2 and word!=\" \" and word!=\"\":\n",
        "          if word not in vocab:\n",
        "            vocab.update({word:1})\n",
        "          else:\n",
        "            vocab.update({word:vocab[word]+1})\n",
        "  \n",
        "  vocab_key=sorted(vocab, key=vocab.get,reverse=True) \n",
        "  for w in vocab_key:\n",
        "    sorted_dict[w] = vocab[w]\n",
        "  return sorted_dict\n",
        "\n",
        "\n",
        "def find_bigram(lis):\n",
        "  vocab={}\n",
        "  sorted_dict = {}\n",
        "  for phrase in tqdm(lis):\n",
        "    words=phrase.split(\" \")\n",
        "    words=[i for i in words]\n",
        "    for index in range(len(words)-1):\n",
        "      word=\" \".join(words[index:index+2])\n",
        "      if word not in vocab:\n",
        "          vocab.update({word:1})\n",
        "      else:\n",
        "          vocab.update({word:vocab[word]+1})\n",
        "  vocab_key=sorted(vocab, key=vocab.get,reverse=True) \n",
        "  for w in vocab_key:\n",
        "    sorted_dict[w] = vocab[w]\n",
        "  return sorted_dict \n",
        "\n",
        "\n",
        "\n",
        "\n",
        "  \n"
      ],
      "metadata": {
        "id": "SkYWB2Rybpri",
        "cellView": "form"
      },
      "execution_count": 239,
      "outputs": []
    },
    {
      "cell_type": "code",
      "source": [
        "unigrams=find_unigram(all_pharases)\n",
        "bigrams=find_bigram(all_pharases)"
      ],
      "metadata": {
        "colab": {
          "base_uri": "https://localhost:8080/"
        },
        "id": "5ZgF7STRbpuJ",
        "outputId": "d270a4ac-c921-448a-a58c-0a2ba8c3abfe"
      },
      "execution_count": 240,
      "outputs": [
        {
          "output_type": "stream",
          "name": "stderr",
          "text": [
            "100%|██████████| 1657648/1657648 [00:02<00:00, 797496.94it/s]\n",
            "100%|██████████| 1657648/1657648 [00:06<00:00, 241088.48it/s]\n"
          ]
        }
      ]
    },
    {
      "cell_type": "code",
      "source": [
        "list(bigrams.items())[:10]"
      ],
      "metadata": {
        "colab": {
          "base_uri": "https://localhost:8080/"
        },
        "id": "n9zu7s1Wn-6-",
        "outputId": "339b0149-e5ec-47aa-a50b-b89e67776485"
      },
      "execution_count": 241,
      "outputs": [
        {
          "output_type": "execute_result",
          "data": {
            "text/plain": [
              "[('easy to', 32819),\n",
              " ('the skin', 27140),\n",
              " ('submitted after', 24152),\n",
              " ('after receiving', 23922),\n",
              " ('an incentive', 23757),\n",
              " ('receiving an', 23728),\n",
              " ('long time', 21062),\n",
              " ('on the', 20596),\n",
              " ('free trial', 19406),\n",
              " ('to apply', 19173)]"
            ]
          },
          "metadata": {},
          "execution_count": 241
        }
      ]
    },
    {
      "cell_type": "markdown",
      "source": [
        "# **bigram after removing stop words**"
      ],
      "metadata": {
        "id": "zpph0Dd3o285"
      }
    },
    {
      "cell_type": "code",
      "source": [
        "#@title clean the unigrams and bigrams { form-width: \"1%\" }\n",
        "def clean_bigrams(bigrams):\n",
        "  print(\"length of bigrams : \",len(bigrams))\n",
        "  cp=bigrams.copy()\n",
        "  for i in cp:\n",
        "    flag=1\n",
        "    l=i.split(\" \")\n",
        "    for j in l:\n",
        "      if j in stopwords:\n",
        "        flag=0\n",
        "    if flag==0:\n",
        "      bigrams.pop(i)\n",
        "  print(\"length of bigrams : \",len(bigrams))\n",
        "  return bigrams\n",
        "\n",
        "def clean_unigrams(unigrams):\n",
        "  print(\"length of unigrams : \",len(unigrams))\n",
        "  cp=unigrams.copy()\n",
        "  for i in cp:\n",
        "    if i in stopwords:\n",
        "      unigrams.pop(i)\n",
        "  print(\"length of unigrams : \",len(unigrams))\n",
        "  return unigrams\n",
        "\n",
        "bigrams=clean_bigrams(bigrams)\n",
        "unigrams=clean_unigrams(unigrams)"
      ],
      "metadata": {
        "id": "KbS5dQnZoujr",
        "colab": {
          "base_uri": "https://localhost:8080/"
        },
        "cellView": "form",
        "outputId": "83fe9a44-2345-4471-e232-f9b2c630d9a0"
      },
      "execution_count": 243,
      "outputs": [
        {
          "output_type": "stream",
          "name": "stdout",
          "text": [
            "length of bigrams :  418497\n",
            "length of bigrams :  196127\n",
            "length of unigrams :  0\n",
            "length of unigrams :  0\n"
          ]
        }
      ]
    },
    {
      "cell_type": "code",
      "source": [
        "list(bigrams.items())[:10]"
      ],
      "metadata": {
        "colab": {
          "base_uri": "https://localhost:8080/"
        },
        "id": "czXI-9ehpZDm",
        "outputId": "e9c3fa7a-3a0b-4051-b319-379cd77c446a"
      },
      "execution_count": 244,
      "outputs": [
        {
          "output_type": "execute_result",
          "data": {
            "text/plain": [
              "[('long time', 21062),\n",
              " ('free trial', 19406),\n",
              " ('skin feels', 8761),\n",
              " ('pleasant scent', 7157),\n",
              " ('quickly absorbed', 6553),\n",
              " ('super easy', 6294),\n",
              " ('hair feels', 5892),\n",
              " ('dry skin', 5338),\n",
              " ('absorbs quickly', 5121),\n",
              " ('product test', 4940)]"
            ]
          },
          "metadata": {},
          "execution_count": 244
        }
      ]
    },
    {
      "cell_type": "code",
      "source": [
        "secondary_bigrams=bigrams.copy()\n",
        "len(secondary_bigrams)"
      ],
      "metadata": {
        "colab": {
          "base_uri": "https://localhost:8080/"
        },
        "id": "VJcFRuRHDSgK",
        "outputId": "83c22079-d41a-4541-e4f7-98b6870f3807"
      },
      "execution_count": 246,
      "outputs": [
        {
          "output_type": "execute_result",
          "data": {
            "text/plain": [
              "196127"
            ]
          },
          "metadata": {},
          "execution_count": 246
        }
      ]
    },
    {
      "cell_type": "code",
      "source": [
        "pip install -U simplemma "
      ],
      "metadata": {
        "colab": {
          "base_uri": "https://localhost:8080/"
        },
        "id": "Hdw-Nqf9taRg",
        "outputId": "19ec8fef-0683-442b-a145-bf8058e6bac9"
      },
      "execution_count": 154,
      "outputs": [
        {
          "output_type": "stream",
          "name": "stdout",
          "text": [
            "Requirement already satisfied: simplemma in /usr/local/lib/python3.7/dist-packages (0.5.0)\n"
          ]
        }
      ]
    },
    {
      "cell_type": "markdown",
      "source": [
        "## **To merge the tags having same meaning**"
      ],
      "metadata": {
        "id": "9deSadO9wdYN"
      }
    },
    {
      "cell_type": "code",
      "source": [
        "#@title code for lemmatization  { form-width: \"1%\" }\n",
        "import simplemma\n",
        "langdata = simplemma.load_data('en')\n",
        "def lemmatize(corpus):\n",
        "  lmt={}\n",
        "  for sent in corpus:\n",
        "    words=sent.split(\" \")\n",
        "    words=[simplemma.lemmatize(w,langdata) for w in words]\n",
        "    lmt.update({sent:words})\n",
        "  return lmt\n",
        "\n",
        "\n"
      ],
      "metadata": {
        "id": "iTXbuWdtudpz",
        "cellView": "form"
      },
      "execution_count": 248,
      "outputs": []
    },
    {
      "cell_type": "code",
      "source": [
        "lemmatized=lemmatize(bigrams)\n",
        "list(lemmatized.items())[:10]"
      ],
      "metadata": {
        "id": "KsUhSkJRhpQe"
      },
      "execution_count": null,
      "outputs": []
    },
    {
      "cell_type": "code",
      "source": [
        "lemmatized_keys=list(lemmatized.keys())"
      ],
      "metadata": {
        "id": "JatBL7KJSjq4"
      },
      "execution_count": 250,
      "outputs": []
    },
    {
      "cell_type": "code",
      "source": [
        "lemmatized_keys=lemmatized_keys[:60000]"
      ],
      "metadata": {
        "id": "XoB58K2JKzYZ"
      },
      "execution_count": 251,
      "outputs": []
    },
    {
      "cell_type": "code",
      "source": [
        "#@title code for merge tags  { form-width: \"1%\" }\n",
        "def merge_tags(lemmatized,lemmatized_keys):\n",
        "  cluster=[]\n",
        "  for index in tqdm(range(len(lemmatized_keys)-1)):\n",
        "    temp_cluster=[]\n",
        "    temp_cluster.append(lemmatized_keys[index])\n",
        "    for test in lemmatized_keys[index+1:]:\n",
        "      check_words=lemmatized[test]\n",
        "      score=[]\n",
        "      for word in lemmatized[lemmatized_keys[index]]:\n",
        "        if word in check_words:\n",
        "          score.append(\"T\")\n",
        "          check_words.remove(word)\n",
        "        else:\n",
        "          for test_word in check_words:\n",
        "            if word[0]==test_word[0]:\n",
        "              ratio=SequenceMatcher(a=word , b=test_word ).ratio()\n",
        "              if ratio >.85:\n",
        "                score.append(\"T\")\n",
        "        \n",
        "      if len(score)>1:\n",
        "        temp_cluster.append(test)\n",
        "    if len(temp_cluster)>1:\n",
        "      cluster.append(temp_cluster)  \n",
        "\n",
        "  return cluster\n",
        "\n",
        "def merge_tags_unigrams(lemmatized,lemmatized_keys):\n",
        "  cluster=[]\n",
        "  for index in tqdm(range(len(lemmatized_keys)-1)):\n",
        "    temp_cluster=[]\n",
        "    temp_cluster.append(lemmatized_keys[index])\n",
        "    for test in lemmatized_keys[index+1:]:\n",
        "      check_words=lemmatized[test]\n",
        "      score=[]\n",
        "      for word in lemmatized[lemmatized_keys[index]]:\n",
        "         for test_word in check_words:\n",
        "          ratio=SequenceMatcher(a=word , b=test_word ).ratio()\n",
        "          if ratio >.85:\n",
        "            temp_cluster.append(test)\n",
        "    if len(temp_cluster)>1:\n",
        "      cluster.append(temp_cluster)\n",
        "  return cluster\n",
        "\n",
        "\n",
        "\n",
        "\n",
        "\n",
        "def vocab_merger(vocab,clusters):\n",
        "  print(\"len of vocab before merging : \",len(vocab))\n",
        "  for clst in clusters:\n",
        "    for keys in clst[1:]:\n",
        "      vocab[clst[0]]+=vocab[keys]\n",
        "      vocab.pop(keys)\n",
        "  print(\"len of vocab after merging : \",len(vocab))\n",
        "\n",
        "  return vocab\n",
        "        \n",
        "\n",
        "    \n",
        "def get_replacement_dict(vocab,clusters):\n",
        "  replacement_dict={}\n",
        "  for v in vocab:\n",
        "    replacement_dict.update({v:v})  \n",
        "  for clst in clusters:\n",
        "    for keys in clst:\n",
        "      replacement_dict.update({keys:clst[0]})\n",
        "      \n",
        "  print(len(replacement_vocab))\n",
        "  return replacement_dict\n",
        "\n",
        "\n",
        "\n"
      ],
      "metadata": {
        "id": "GIukHsH7vtPY",
        "cellView": "form"
      },
      "execution_count": 252,
      "outputs": []
    },
    {
      "cell_type": "code",
      "source": [
        "clusters=merge_tags(lemmatized,lemmatized_keys)"
      ],
      "metadata": {
        "id": "YgzDev-Gpmzh",
        "colab": {
          "base_uri": "https://localhost:8080/"
        },
        "outputId": "95bb9442-d2b6-4078-c501-912b5aa5891a"
      },
      "execution_count": 194,
      "outputs": [
        {
          "output_type": "stream",
          "name": "stderr",
          "text": [
            "100%|██████████| 6984/6984 [00:46<00:00, 149.48it/s] \n"
          ]
        }
      ]
    },
    {
      "cell_type": "code",
      "source": [
        "#@title Reading and writing the clusters into pickle file { form-width: \"1%\" }\n",
        "# with open(\"/content/drive/MyDrive/review_api/review-model-api-main/processed_csv/bi_gram_cluster.pickle\", \"wb\") as fp:   #Pickling\n",
        "#   pickle.dump(clusters,fp)\n",
        "\n",
        "with open(\"/content/drive/MyDrive/review_api/review-model-api-main/processed_csv/bi_gram_cluster.pickle\", \"rb\") as fp:   # Unpickling\n",
        "   clusters = pickle.load(fp)\n"
      ],
      "metadata": {
        "id": "_IRRW-lezHgX",
        "cellView": "form"
      },
      "execution_count": 253,
      "outputs": []
    },
    {
      "cell_type": "code",
      "source": [
        "len(clusters)"
      ],
      "metadata": {
        "colab": {
          "base_uri": "https://localhost:8080/"
        },
        "id": "8mVhtp0d5G6P",
        "outputId": "9a0288e4-ee64-4c30-f0b1-50c0f02fe29d"
      },
      "execution_count": 254,
      "outputs": [
        {
          "output_type": "execute_result",
          "data": {
            "text/plain": [
              "155"
            ]
          },
          "metadata": {},
          "execution_count": 254
        }
      ]
    },
    {
      "cell_type": "code",
      "source": [
        "count=0\n",
        "for i in clusters:\n",
        "  count+=len(i)-1\n",
        "print(count)"
      ],
      "metadata": {
        "colab": {
          "base_uri": "https://localhost:8080/"
        },
        "id": "l1TsLN-nOeXy",
        "outputId": "513d0c0c-e5fc-4f3a-90ef-c4170d290280"
      },
      "execution_count": 262,
      "outputs": [
        {
          "output_type": "stream",
          "name": "stdout",
          "text": [
            "292\n"
          ]
        }
      ]
    },
    {
      "cell_type": "code",
      "source": [
        "df.head(2)"
      ],
      "metadata": {
        "colab": {
          "base_uri": "https://localhost:8080/",
          "height": 190
        },
        "id": "vm4oS5TaQ-vD",
        "outputId": "e70a71f6-cf1a-4f95-b7e2-b5e9ba0bdb21"
      },
      "execution_count": 279,
      "outputs": [
        {
          "output_type": "execute_result",
          "data": {
            "text/plain": [
              "                  r_id               p_e_id  \\\n",
              "0 -9223328818815898130  9041810293446515692   \n",
              "1 -9223328818815898130  9041810293446515692   \n",
              "\n",
              "                                          sentence     mixed   neutral  \\\n",
              "0  the hair feels well cleaned yet well cared for.  0.000178  0.000738   \n",
              "1     the hair color stays bright for a long time.  0.000216  0.001654   \n",
              "\n",
              "   negative  positive                                            phrases  \\\n",
              "0  0.000038  0.999046                          [hair feels well cleaned]   \n",
              "1  0.001242  0.996889  [hair color stays bright, bright for a long time]   \n",
              "\n",
              "   sent_tag  \n",
              "0  positive  \n",
              "1  positive  "
            ],
            "text/html": [
              "\n",
              "  <div id=\"df-d2590de8-7c7b-4ec0-8ab3-3d81d922d7ec\">\n",
              "    <div class=\"colab-df-container\">\n",
              "      <div>\n",
              "<style scoped>\n",
              "    .dataframe tbody tr th:only-of-type {\n",
              "        vertical-align: middle;\n",
              "    }\n",
              "\n",
              "    .dataframe tbody tr th {\n",
              "        vertical-align: top;\n",
              "    }\n",
              "\n",
              "    .dataframe thead th {\n",
              "        text-align: right;\n",
              "    }\n",
              "</style>\n",
              "<table border=\"1\" class=\"dataframe\">\n",
              "  <thead>\n",
              "    <tr style=\"text-align: right;\">\n",
              "      <th></th>\n",
              "      <th>r_id</th>\n",
              "      <th>p_e_id</th>\n",
              "      <th>sentence</th>\n",
              "      <th>mixed</th>\n",
              "      <th>neutral</th>\n",
              "      <th>negative</th>\n",
              "      <th>positive</th>\n",
              "      <th>phrases</th>\n",
              "      <th>sent_tag</th>\n",
              "    </tr>\n",
              "  </thead>\n",
              "  <tbody>\n",
              "    <tr>\n",
              "      <th>0</th>\n",
              "      <td>-9223328818815898130</td>\n",
              "      <td>9041810293446515692</td>\n",
              "      <td>the hair feels well cleaned yet well cared for.</td>\n",
              "      <td>0.000178</td>\n",
              "      <td>0.000738</td>\n",
              "      <td>0.000038</td>\n",
              "      <td>0.999046</td>\n",
              "      <td>[hair feels well cleaned]</td>\n",
              "      <td>positive</td>\n",
              "    </tr>\n",
              "    <tr>\n",
              "      <th>1</th>\n",
              "      <td>-9223328818815898130</td>\n",
              "      <td>9041810293446515692</td>\n",
              "      <td>the hair color stays bright for a long time.</td>\n",
              "      <td>0.000216</td>\n",
              "      <td>0.001654</td>\n",
              "      <td>0.001242</td>\n",
              "      <td>0.996889</td>\n",
              "      <td>[hair color stays bright, bright for a long time]</td>\n",
              "      <td>positive</td>\n",
              "    </tr>\n",
              "  </tbody>\n",
              "</table>\n",
              "</div>\n",
              "      <button class=\"colab-df-convert\" onclick=\"convertToInteractive('df-d2590de8-7c7b-4ec0-8ab3-3d81d922d7ec')\"\n",
              "              title=\"Convert this dataframe to an interactive table.\"\n",
              "              style=\"display:none;\">\n",
              "        \n",
              "  <svg xmlns=\"http://www.w3.org/2000/svg\" height=\"24px\"viewBox=\"0 0 24 24\"\n",
              "       width=\"24px\">\n",
              "    <path d=\"M0 0h24v24H0V0z\" fill=\"none\"/>\n",
              "    <path d=\"M18.56 5.44l.94 2.06.94-2.06 2.06-.94-2.06-.94-.94-2.06-.94 2.06-2.06.94zm-11 1L8.5 8.5l.94-2.06 2.06-.94-2.06-.94L8.5 2.5l-.94 2.06-2.06.94zm10 10l.94 2.06.94-2.06 2.06-.94-2.06-.94-.94-2.06-.94 2.06-2.06.94z\"/><path d=\"M17.41 7.96l-1.37-1.37c-.4-.4-.92-.59-1.43-.59-.52 0-1.04.2-1.43.59L10.3 9.45l-7.72 7.72c-.78.78-.78 2.05 0 2.83L4 21.41c.39.39.9.59 1.41.59.51 0 1.02-.2 1.41-.59l7.78-7.78 2.81-2.81c.8-.78.8-2.07 0-2.86zM5.41 20L4 18.59l7.72-7.72 1.47 1.35L5.41 20z\"/>\n",
              "  </svg>\n",
              "      </button>\n",
              "      \n",
              "  <style>\n",
              "    .colab-df-container {\n",
              "      display:flex;\n",
              "      flex-wrap:wrap;\n",
              "      gap: 12px;\n",
              "    }\n",
              "\n",
              "    .colab-df-convert {\n",
              "      background-color: #E8F0FE;\n",
              "      border: none;\n",
              "      border-radius: 50%;\n",
              "      cursor: pointer;\n",
              "      display: none;\n",
              "      fill: #1967D2;\n",
              "      height: 32px;\n",
              "      padding: 0 0 0 0;\n",
              "      width: 32px;\n",
              "    }\n",
              "\n",
              "    .colab-df-convert:hover {\n",
              "      background-color: #E2EBFA;\n",
              "      box-shadow: 0px 1px 2px rgba(60, 64, 67, 0.3), 0px 1px 3px 1px rgba(60, 64, 67, 0.15);\n",
              "      fill: #174EA6;\n",
              "    }\n",
              "\n",
              "    [theme=dark] .colab-df-convert {\n",
              "      background-color: #3B4455;\n",
              "      fill: #D2E3FC;\n",
              "    }\n",
              "\n",
              "    [theme=dark] .colab-df-convert:hover {\n",
              "      background-color: #434B5C;\n",
              "      box-shadow: 0px 1px 3px 1px rgba(0, 0, 0, 0.15);\n",
              "      filter: drop-shadow(0px 1px 2px rgba(0, 0, 0, 0.3));\n",
              "      fill: #FFFFFF;\n",
              "    }\n",
              "  </style>\n",
              "\n",
              "      <script>\n",
              "        const buttonEl =\n",
              "          document.querySelector('#df-d2590de8-7c7b-4ec0-8ab3-3d81d922d7ec button.colab-df-convert');\n",
              "        buttonEl.style.display =\n",
              "          google.colab.kernel.accessAllowed ? 'block' : 'none';\n",
              "\n",
              "        async function convertToInteractive(key) {\n",
              "          const element = document.querySelector('#df-d2590de8-7c7b-4ec0-8ab3-3d81d922d7ec');\n",
              "          const dataTable =\n",
              "            await google.colab.kernel.invokeFunction('convertToInteractive',\n",
              "                                                     [key], {});\n",
              "          if (!dataTable) return;\n",
              "\n",
              "          const docLinkHtml = 'Like what you see? Visit the ' +\n",
              "            '<a target=\"_blank\" href=https://colab.research.google.com/notebooks/data_table.ipynb>data table notebook</a>'\n",
              "            + ' to learn more about interactive tables.';\n",
              "          element.innerHTML = '';\n",
              "          dataTable['output_type'] = 'display_data';\n",
              "          await google.colab.output.renderOutput(dataTable, element);\n",
              "          const docLink = document.createElement('div');\n",
              "          docLink.innerHTML = docLinkHtml;\n",
              "          element.appendChild(docLink);\n",
              "        }\n",
              "      </script>\n",
              "    </div>\n",
              "  </div>\n",
              "  "
            ]
          },
          "metadata": {},
          "execution_count": 279
        }
      ]
    },
    {
      "cell_type": "code",
      "source": [
        "#@title add column wise phrases  { form-width: \"1%\" }\n",
        "def add_phrases(df):\n",
        "  ph1,ph2,ph3,ph4,ph5=[],[],[],[],[]\n",
        "  lists={0:ph1,1:ph2,2:ph3,3:ph4,4:ph5}\n",
        "  for ph in tqdm(df[\"phrases\"]):\n",
        "    length=len(ph)\n",
        "    for i in range(length):\n",
        "      lists[i].append(ph[i])\n",
        "    for j in range(length,5):\n",
        "      lists[j].append(\"\")\n",
        "  print(len(ph1),len(ph2),len(ph3),len(ph4),len(ph5))\n",
        "  df[\"ph1\"]=ph1\n",
        "  df[\"ph2\"]=ph2\n",
        "  df[\"ph3\"]=ph3\n",
        "  df[\"ph4\"]=ph4\n",
        "  df[\"ph5\"]=ph5\n",
        "\n",
        "  return df"
      ],
      "metadata": {
        "cellView": "form",
        "id": "Gv5vnh3KQkgZ"
      },
      "execution_count": 278,
      "outputs": []
    },
    {
      "cell_type": "code",
      "source": [
        "df=add_phrases(df)"
      ],
      "metadata": {
        "colab": {
          "base_uri": "https://localhost:8080/"
        },
        "id": "210vqIkyRCF3",
        "outputId": "f07336a5-4741-44d5-a332-376a05df146c"
      },
      "execution_count": 280,
      "outputs": [
        {
          "output_type": "stream",
          "name": "stderr",
          "text": [
            "100%|██████████| 915904/915904 [00:03<00:00, 271084.53it/s]\n"
          ]
        },
        {
          "output_type": "stream",
          "name": "stdout",
          "text": [
            "915904 915904 915904 915904 915904\n"
          ]
        }
      ]
    },
    {
      "cell_type": "code",
      "source": [
        "clusters;"
      ],
      "metadata": {
        "id": "KYaeFE4qqkAP"
      },
      "execution_count": 263,
      "outputs": []
    },
    {
      "cell_type": "code",
      "source": [
        " vocab=dict(list(bigrams.items()))#[:80000])\n",
        " len(vocab)"
      ],
      "metadata": {
        "colab": {
          "base_uri": "https://localhost:8080/"
        },
        "id": "K-lCoQMW2YVY",
        "outputId": "c27aaf64-505c-4c1a-9319-ac9e9abace5f"
      },
      "execution_count": 264,
      "outputs": [
        {
          "output_type": "execute_result",
          "data": {
            "text/plain": [
              "196127"
            ]
          },
          "metadata": {},
          "execution_count": 264
        }
      ]
    },
    {
      "cell_type": "code",
      "source": [
        "replacement_vocab=get_replacement_dict(vocab,clusters)\n",
        "# replacement_vocab"
      ],
      "metadata": {
        "colab": {
          "base_uri": "https://localhost:8080/"
        },
        "id": "0yLUfLkIXBtN",
        "outputId": "e78fdef6-2baa-4c76-a64e-ce0801189123"
      },
      "execution_count": 265,
      "outputs": [
        {
          "output_type": "stream",
          "name": "stdout",
          "text": [
            "196127\n"
          ]
        }
      ]
    },
    {
      "cell_type": "code",
      "source": [
        "merge_vocab=vocab_merger(vocab,clusters)"
      ],
      "metadata": {
        "colab": {
          "base_uri": "https://localhost:8080/"
        },
        "id": "UvqbeBKGOeaW",
        "outputId": "1269923c-553a-4f22-8e8e-d165c2270fe5"
      },
      "execution_count": 267,
      "outputs": [
        {
          "output_type": "stream",
          "name": "stdout",
          "text": [
            "len of vocab before merging :  196127\n",
            "len of vocab after merging :  195835\n"
          ]
        }
      ]
    },
    {
      "cell_type": "code",
      "source": [
        "replacement_vocab;"
      ],
      "metadata": {
        "id": "Z9novXaFX_su"
      },
      "execution_count": null,
      "outputs": []
    },
    {
      "cell_type": "code",
      "source": [
        "needed_unigrams;"
      ],
      "metadata": {
        "id": "N-adLtX3TagC"
      },
      "execution_count": 314,
      "outputs": []
    },
    {
      "cell_type": "code",
      "source": [
        "#@title to save the files { form-width: \"1%\" }\n",
        "#saving the vocab\n",
        "import pickle\n",
        "\n",
        "# with open(\"/content/drive/MyDrive/review_api/review-model-api-main/processed_csv/tags_freq.pickle\", \"wb\") as fp:   #Pickling\n",
        "#   pickle.dump(merge_vocab, fp)\n",
        "\n",
        "\n",
        "# with open(\"/content/drive/MyDrive/review_api/review-model-api-main/processed_csv/unigram_replacement.pickle\", \"wb\") as fp:   #Pickling\n",
        "#   pickle.dump(replacement_vocab, fp)\n",
        "\n",
        "\n"
      ],
      "metadata": {
        "id": "HNlPhLNz4FCk",
        "cellView": "form"
      },
      "execution_count": null,
      "outputs": []
    },
    {
      "cell_type": "code",
      "source": [
        "#@title to read the files { form-width: \"1%\" }\n",
        "# with open(\"/content/drive/MyDrive/review_api/review-model-api-main/processed_csv/bigrams_tags_freq.pickle\", \"rb\") as fp:   # Unpickling\n",
        "#    merge_vocab = pickle.load(fp)\n",
        "\n",
        "# with open(\"/content/drive/MyDrive/review_api/review-model-api-main/processed_csv/unigram_replacement.pickle\", \"rb\") as fp:   # Unpickling\n",
        "#    unigram_replacement_vocab = pickle.load(fp)\n",
        "  \n",
        "# with open(\"/content/drive/MyDrive/review_api/review-model-api-main/processed_csv/bigrams_replacement.pickle\", \"rb\") as fp:   # Unpickling\n",
        "#    bigram_replacement_vocab = pickle.load(fp)\n",
        "\n",
        "\n",
        "\n",
        "print(len(merge_vocab))\n",
        "print(len(unigram_replacement_vocab))\n",
        "print(len(bigram_replacement_vocab))"
      ],
      "metadata": {
        "cellView": "form",
        "id": "X2Fb3Q9BnaO_"
      },
      "execution_count": null,
      "outputs": []
    },
    {
      "cell_type": "code",
      "source": [
        "#@title  to add unigrams along with bigrams { form-width: \"1%\" }\n",
        "def get_unigrams(unigram_replacement_vocab,needed_unigrams):\n",
        "  un=unigram_replacement_vocab.copy()\n",
        "  print(len(unigram_replacement_vocab))\n",
        "  for i in un:\n",
        "    if i not in needed_unigrams:\n",
        "      unigram_replacement_vocab.pop(i)\n",
        "  len(unigram_replacement_vocab)\n",
        "  return unigram_replacement_vocab\n",
        "\n",
        "unigram_replacement_vocab= get_unigrams(unigram_replacement_vocab,needed_unigrams)\n"
      ],
      "metadata": {
        "colab": {
          "base_uri": "https://localhost:8080/"
        },
        "cellView": "form",
        "id": "QfyYoDahbqaJ",
        "outputId": "c350b9cd-6725-4947-e306-062f2bd8311c"
      },
      "execution_count": 364,
      "outputs": [
        {
          "output_type": "stream",
          "name": "stdout",
          "text": [
            "400\n"
          ]
        },
        {
          "output_type": "execute_result",
          "data": {
            "text/plain": [
              "400"
            ]
          },
          "metadata": {},
          "execution_count": 364
        }
      ]
    },
    {
      "cell_type": "code",
      "source": [
        "len(needed_unigrams)"
      ],
      "metadata": {
        "colab": {
          "base_uri": "https://localhost:8080/"
        },
        "id": "Qg1iXkIWbxh5",
        "outputId": "50d6727a-b8f6-4faf-8f76-cc8bc2d948f8"
      },
      "execution_count": 342,
      "outputs": [
        {
          "output_type": "execute_result",
          "data": {
            "text/plain": [
              "400"
            ]
          },
          "metadata": {},
          "execution_count": 342
        }
      ]
    },
    {
      "cell_type": "code",
      "source": [
        "\n",
        "vocab_1=dict(list(vocab.items())[:40000])\n",
        "\n",
        "replacement_vocab_1={}\n",
        "for i in vocab_1:\n",
        "  if i not in  replacement_vocab:\n",
        "    replacement_vocab_1.update({i:i})\n",
        "  else:\n",
        "    replacement_vocab_1.update({i:replacement_vocab[i]})\n",
        "len(replacement_vocab_1)"
      ],
      "metadata": {
        "colab": {
          "base_uri": "https://localhost:8080/"
        },
        "id": "e9327wdY6bv3",
        "outputId": "ca7d4835-536b-42f2-a54e-cbbf70634d1c"
      },
      "execution_count": 269,
      "outputs": [
        {
          "output_type": "execute_result",
          "data": {
            "text/plain": [
              "40000"
            ]
          },
          "metadata": {},
          "execution_count": 269
        }
      ]
    },
    {
      "cell_type": "code",
      "source": [
        "merge_vocab;"
      ],
      "metadata": {
        "id": "TiwpujSLOqUw"
      },
      "execution_count": 216,
      "outputs": []
    },
    {
      "cell_type": "code",
      "source": [
        "df.columns"
      ],
      "metadata": {
        "id": "FKJI7KrJPL3o",
        "colab": {
          "base_uri": "https://localhost:8080/"
        },
        "outputId": "3c1349bc-7685-42c3-9b4c-7288800c9551"
      },
      "execution_count": 275,
      "outputs": [
        {
          "output_type": "execute_result",
          "data": {
            "text/plain": [
              "Index(['r_id', 'p_e_id', 'sentence', 'mixed', 'neutral', 'negative',\n",
              "       'positive', 'phrases', 'sent_tag'],\n",
              "      dtype='object')"
            ]
          },
          "metadata": {},
          "execution_count": 275
        }
      ]
    },
    {
      "cell_type": "code",
      "source": [
        ""
      ],
      "metadata": {
        "id": "PsIMp8_SPkgA"
      },
      "execution_count": 281,
      "outputs": []
    },
    {
      "cell_type": "code",
      "source": [
        "#@title creating a overall dataframe { form-width: \"1%\" }\n",
        "df[\"sent_tag\"]=df[['neutral', 'negative', 'positive']].idxmax(axis=1)\n",
        "f1=df[['r_id', 'p_e_id', 'sentence', 'neutral', 'negative',\n",
        "       'positive', 'phrases', 'ph1','sent_tag']]\n",
        "print(df1.shape)\n",
        "\n",
        "\n",
        "df2=df[['r_id', 'p_e_id', 'sentence', 'neutral', 'negative',\n",
        "       'positive', 'phrases', 'ph2','sent_tag']]\n",
        "\n",
        "print(df2.shape)\n",
        "\n",
        "df3=df[['r_id', 'p_e_id', 'sentence', 'neutral', 'negative',\n",
        "       'positive', 'phrases', 'ph3','sent_tag']]\n",
        "\n",
        "print(df3.shape)\n",
        "\n",
        "df4=df[['r_id', 'p_e_id', 'sentence', 'neutral', 'negative',\n",
        "       'positive', 'phrases', 'ph4','sent_tag']]\n",
        "\n",
        "\n",
        "print(df4.shape)\n",
        "\n",
        "df5=df[['r_id', 'p_e_id', 'sentence', 'neutral', 'negative',\n",
        "       'positive', 'phrases', 'ph5','sent_tag']]\n",
        "\n",
        "print(df5.shape)\n",
        "\n",
        "\n",
        "df1.rename(columns = {'ph1':'ph'}, inplace = True)\n",
        "df2.rename(columns = {'ph2':'ph'}, inplace = True)\n",
        "df3.rename(columns = {'ph3':'ph'}, inplace = True)\n",
        "df4.rename(columns = {'ph4':'ph'}, inplace = True)\n",
        "df5.rename(columns = {'ph5':'ph'}, inplace = True)\n",
        "\n",
        "\n",
        "dfs=pd.concat([df1,df2,df3,df4,df5])\n",
        "dfs.shape"
      ],
      "metadata": {
        "id": "fbz6N4ZZPlx4",
        "cellView": "form"
      },
      "execution_count": null,
      "outputs": []
    },
    {
      "cell_type": "code",
      "source": [
        "#@title preprocessing on df , removing null values { form-width: \"1%\" }\n",
        "dfs=dfs.replace(r'^\\s*$', np.nan, regex=True)\n",
        "dfd = dfs[dfs['ph'].notna()]\n",
        "dfd[\"phrases\"]=dfd[\"ph\"]\n",
        "dfd.shape"
      ],
      "metadata": {
        "colab": {
          "base_uri": "https://localhost:8080/",
          "height": 336
        },
        "id": "McRw4kL3zYRm",
        "outputId": "59f9470d-b989-4b1d-dde7-68e4d0ec17c6",
        "cellView": "form"
      },
      "execution_count": 290,
      "outputs": [
        {
          "output_type": "execute_result",
          "data": {
            "text/plain": [
              "                  r_id               p_e_id  \\\n",
              "0 -9223328818815898130  9041810293446515692   \n",
              "1 -9223328818815898130  9041810293446515692   \n",
              "2 -9222828304918768305  5153922226071839655   \n",
              "3 -9222828304918768305  5153922226071839655   \n",
              "4 -9222825686026871200  -683321389213928801   \n",
              "\n",
              "                                            sentence   neutral  negative  \\\n",
              "0    the hair feels well cleaned yet well cared for.  0.000738  0.000038   \n",
              "1       the hair color stays bright for a long time.  0.001654  0.001242   \n",
              "2  we have known the fragrance for a long time, a...  0.012318  0.000189   \n",
              "3                              it lasts a long time.  0.002139  0.000762   \n",
              "4       i am very enthusiastic about this fragrance.  0.002101  0.000742   \n",
              "\n",
              "   positive                                            phrases  \\\n",
              "0  0.999046                          [hair feels well cleaned]   \n",
              "1  0.996889  [hair color stays bright, bright for a long time]   \n",
              "2  0.987403                        [fragrance for a long time]   \n",
              "3  0.997045                                        [long time]   \n",
              "4  0.997105                [enthusiastic about this fragrance]   \n",
              "\n",
              "                                  ph  sent_tag  \n",
              "0            hair feels well cleaned  positive  \n",
              "1            hair color stays bright  positive  \n",
              "2          fragrance for a long time  positive  \n",
              "3                          long time  positive  \n",
              "4  enthusiastic about this fragrance  positive  "
            ],
            "text/html": [
              "\n",
              "  <div id=\"df-b5b22319-1934-4c08-92af-58d4b1b81128\">\n",
              "    <div class=\"colab-df-container\">\n",
              "      <div>\n",
              "<style scoped>\n",
              "    .dataframe tbody tr th:only-of-type {\n",
              "        vertical-align: middle;\n",
              "    }\n",
              "\n",
              "    .dataframe tbody tr th {\n",
              "        vertical-align: top;\n",
              "    }\n",
              "\n",
              "    .dataframe thead th {\n",
              "        text-align: right;\n",
              "    }\n",
              "</style>\n",
              "<table border=\"1\" class=\"dataframe\">\n",
              "  <thead>\n",
              "    <tr style=\"text-align: right;\">\n",
              "      <th></th>\n",
              "      <th>r_id</th>\n",
              "      <th>p_e_id</th>\n",
              "      <th>sentence</th>\n",
              "      <th>neutral</th>\n",
              "      <th>negative</th>\n",
              "      <th>positive</th>\n",
              "      <th>phrases</th>\n",
              "      <th>ph</th>\n",
              "      <th>sent_tag</th>\n",
              "    </tr>\n",
              "  </thead>\n",
              "  <tbody>\n",
              "    <tr>\n",
              "      <th>0</th>\n",
              "      <td>-9223328818815898130</td>\n",
              "      <td>9041810293446515692</td>\n",
              "      <td>the hair feels well cleaned yet well cared for.</td>\n",
              "      <td>0.000738</td>\n",
              "      <td>0.000038</td>\n",
              "      <td>0.999046</td>\n",
              "      <td>[hair feels well cleaned]</td>\n",
              "      <td>hair feels well cleaned</td>\n",
              "      <td>positive</td>\n",
              "    </tr>\n",
              "    <tr>\n",
              "      <th>1</th>\n",
              "      <td>-9223328818815898130</td>\n",
              "      <td>9041810293446515692</td>\n",
              "      <td>the hair color stays bright for a long time.</td>\n",
              "      <td>0.001654</td>\n",
              "      <td>0.001242</td>\n",
              "      <td>0.996889</td>\n",
              "      <td>[hair color stays bright, bright for a long time]</td>\n",
              "      <td>hair color stays bright</td>\n",
              "      <td>positive</td>\n",
              "    </tr>\n",
              "    <tr>\n",
              "      <th>2</th>\n",
              "      <td>-9222828304918768305</td>\n",
              "      <td>5153922226071839655</td>\n",
              "      <td>we have known the fragrance for a long time, a...</td>\n",
              "      <td>0.012318</td>\n",
              "      <td>0.000189</td>\n",
              "      <td>0.987403</td>\n",
              "      <td>[fragrance for a long time]</td>\n",
              "      <td>fragrance for a long time</td>\n",
              "      <td>positive</td>\n",
              "    </tr>\n",
              "    <tr>\n",
              "      <th>3</th>\n",
              "      <td>-9222828304918768305</td>\n",
              "      <td>5153922226071839655</td>\n",
              "      <td>it lasts a long time.</td>\n",
              "      <td>0.002139</td>\n",
              "      <td>0.000762</td>\n",
              "      <td>0.997045</td>\n",
              "      <td>[long time]</td>\n",
              "      <td>long time</td>\n",
              "      <td>positive</td>\n",
              "    </tr>\n",
              "    <tr>\n",
              "      <th>4</th>\n",
              "      <td>-9222825686026871200</td>\n",
              "      <td>-683321389213928801</td>\n",
              "      <td>i am very enthusiastic about this fragrance.</td>\n",
              "      <td>0.002101</td>\n",
              "      <td>0.000742</td>\n",
              "      <td>0.997105</td>\n",
              "      <td>[enthusiastic about this fragrance]</td>\n",
              "      <td>enthusiastic about this fragrance</td>\n",
              "      <td>positive</td>\n",
              "    </tr>\n",
              "  </tbody>\n",
              "</table>\n",
              "</div>\n",
              "      <button class=\"colab-df-convert\" onclick=\"convertToInteractive('df-b5b22319-1934-4c08-92af-58d4b1b81128')\"\n",
              "              title=\"Convert this dataframe to an interactive table.\"\n",
              "              style=\"display:none;\">\n",
              "        \n",
              "  <svg xmlns=\"http://www.w3.org/2000/svg\" height=\"24px\"viewBox=\"0 0 24 24\"\n",
              "       width=\"24px\">\n",
              "    <path d=\"M0 0h24v24H0V0z\" fill=\"none\"/>\n",
              "    <path d=\"M18.56 5.44l.94 2.06.94-2.06 2.06-.94-2.06-.94-.94-2.06-.94 2.06-2.06.94zm-11 1L8.5 8.5l.94-2.06 2.06-.94-2.06-.94L8.5 2.5l-.94 2.06-2.06.94zm10 10l.94 2.06.94-2.06 2.06-.94-2.06-.94-.94-2.06-.94 2.06-2.06.94z\"/><path d=\"M17.41 7.96l-1.37-1.37c-.4-.4-.92-.59-1.43-.59-.52 0-1.04.2-1.43.59L10.3 9.45l-7.72 7.72c-.78.78-.78 2.05 0 2.83L4 21.41c.39.39.9.59 1.41.59.51 0 1.02-.2 1.41-.59l7.78-7.78 2.81-2.81c.8-.78.8-2.07 0-2.86zM5.41 20L4 18.59l7.72-7.72 1.47 1.35L5.41 20z\"/>\n",
              "  </svg>\n",
              "      </button>\n",
              "      \n",
              "  <style>\n",
              "    .colab-df-container {\n",
              "      display:flex;\n",
              "      flex-wrap:wrap;\n",
              "      gap: 12px;\n",
              "    }\n",
              "\n",
              "    .colab-df-convert {\n",
              "      background-color: #E8F0FE;\n",
              "      border: none;\n",
              "      border-radius: 50%;\n",
              "      cursor: pointer;\n",
              "      display: none;\n",
              "      fill: #1967D2;\n",
              "      height: 32px;\n",
              "      padding: 0 0 0 0;\n",
              "      width: 32px;\n",
              "    }\n",
              "\n",
              "    .colab-df-convert:hover {\n",
              "      background-color: #E2EBFA;\n",
              "      box-shadow: 0px 1px 2px rgba(60, 64, 67, 0.3), 0px 1px 3px 1px rgba(60, 64, 67, 0.15);\n",
              "      fill: #174EA6;\n",
              "    }\n",
              "\n",
              "    [theme=dark] .colab-df-convert {\n",
              "      background-color: #3B4455;\n",
              "      fill: #D2E3FC;\n",
              "    }\n",
              "\n",
              "    [theme=dark] .colab-df-convert:hover {\n",
              "      background-color: #434B5C;\n",
              "      box-shadow: 0px 1px 3px 1px rgba(0, 0, 0, 0.15);\n",
              "      filter: drop-shadow(0px 1px 2px rgba(0, 0, 0, 0.3));\n",
              "      fill: #FFFFFF;\n",
              "    }\n",
              "  </style>\n",
              "\n",
              "      <script>\n",
              "        const buttonEl =\n",
              "          document.querySelector('#df-b5b22319-1934-4c08-92af-58d4b1b81128 button.colab-df-convert');\n",
              "        buttonEl.style.display =\n",
              "          google.colab.kernel.accessAllowed ? 'block' : 'none';\n",
              "\n",
              "        async function convertToInteractive(key) {\n",
              "          const element = document.querySelector('#df-b5b22319-1934-4c08-92af-58d4b1b81128');\n",
              "          const dataTable =\n",
              "            await google.colab.kernel.invokeFunction('convertToInteractive',\n",
              "                                                     [key], {});\n",
              "          if (!dataTable) return;\n",
              "\n",
              "          const docLinkHtml = 'Like what you see? Visit the ' +\n",
              "            '<a target=\"_blank\" href=https://colab.research.google.com/notebooks/data_table.ipynb>data table notebook</a>'\n",
              "            + ' to learn more about interactive tables.';\n",
              "          element.innerHTML = '';\n",
              "          dataTable['output_type'] = 'display_data';\n",
              "          await google.colab.output.renderOutput(dataTable, element);\n",
              "          const docLink = document.createElement('div');\n",
              "          docLink.innerHTML = docLinkHtml;\n",
              "          element.appendChild(docLink);\n",
              "        }\n",
              "      </script>\n",
              "    </div>\n",
              "  </div>\n",
              "  "
            ]
          },
          "metadata": {},
          "execution_count": 290
        }
      ]
    },
    {
      "cell_type": "code",
      "source": [
        "dfd.columns"
      ],
      "metadata": {
        "colab": {
          "base_uri": "https://localhost:8080/"
        },
        "id": "itzZM3q6LXeU",
        "outputId": "50d3fec0-a694-4105-c99b-6275632aacfa"
      },
      "execution_count": 293,
      "outputs": [
        {
          "output_type": "execute_result",
          "data": {
            "text/plain": [
              "Index(['r_id', 'p_e_id', 'sentence', 'neutral', 'negative', 'positive',\n",
              "       'phrases', 'ph', 'sent_tag'],\n",
              "      dtype='object')"
            ]
          },
          "metadata": {},
          "execution_count": 293
        }
      ]
    },
    {
      "cell_type": "code",
      "source": [
        "new_df=pd.DataFrame({\"r_id\":dfd[\"r_id\"],\"p_e_id\":dfd[\"p_e_id\"],\"sent_neu_score\":dfd[\"neutral\"],\"sent_neg_score\":dfd[\"negative\"],\"sent_pos_score\":dfd[\"positive\"],\"phrases\":dfd[\"phrases\"],\"sent_tag\":dfd[\"sent_tag\"]})\n",
        "new_df.head()"
      ],
      "metadata": {
        "id": "yum14IWC0nU9"
      },
      "execution_count": 294,
      "outputs": []
    },
    {
      "cell_type": "code",
      "source": [
        "new_df.to_csv(\"/content/drive/MyDrive/review_api/review-model-api-main/processed_csv/phrases.csv\",index=None)"
      ],
      "metadata": {
        "id": "DFmZ1NKU3kh9"
      },
      "execution_count": null,
      "outputs": []
    },
    {
      "cell_type": "code",
      "source": [
        "new_df.shape"
      ],
      "metadata": {
        "colab": {
          "base_uri": "https://localhost:8080/"
        },
        "id": "eFOOMBPkBXOh",
        "outputId": "4829c3be-1f2f-4133-f0fa-58d728163bb1"
      },
      "execution_count": null,
      "outputs": [
        {
          "output_type": "execute_result",
          "data": {
            "text/plain": [
              "(1765969, 7)"
            ]
          },
          "metadata": {},
          "execution_count": 140
        }
      ]
    },
    {
      "cell_type": "code",
      "source": [
        "new_replacement_vocab=replacement_vocab.copy()"
      ],
      "metadata": {
        "id": "eUJMKt766shb"
      },
      "execution_count": null,
      "outputs": []
    },
    {
      "cell_type": "code",
      "source": [
        "#@title updating replacement vocab { form-width: \"10%\" }\n",
        "def update_replacement_vocab(bigrams,replacement_vocab)\n",
        "  for i in bigrams:\n",
        "    if i not in replacement_vocab:\n",
        "      replacement_vocab.update({i:i})\n",
        "  len(replacement_vocab)\n",
        "  return replacement_vocab\n",
        "\n",
        "replacement_vocab=update_replacement_vocab(bigrams,replacement_vocab)"
      ],
      "metadata": {
        "colab": {
          "base_uri": "https://localhost:8080/"
        },
        "id": "42PywGUIP0i-",
        "outputId": "d290ba64-64c3-44b3-b951-d2459cb2f696",
        "cellView": "form"
      },
      "execution_count": 296,
      "outputs": [
        {
          "output_type": "execute_result",
          "data": {
            "text/plain": [
              "196127"
            ]
          },
          "metadata": {},
          "execution_count": 296
        }
      ]
    },
    {
      "cell_type": "code",
      "source": [
        "#@title code to gave tags to phrases { form-width: \"1%\" }\n",
        "from tqdm import tqdm\n",
        "\n",
        "def give_tag(new_df,replacement_vocab,replacement_vocab_1):\n",
        "  # print(\"ajay\")\n",
        "  tags=[]\n",
        "  for ph in tqdm(new_df[\"phrases\"]):\n",
        "    flag=0  \n",
        "    if flag==0:\n",
        "      spl=ph.split(\" \")\n",
        "      for i in range(len(spl)-1):\n",
        "        bigram=\" \".join(spl[i:i+2])\n",
        "        if bigram in replacement_vocab_1:\n",
        "          flag=1\n",
        "          tags.append(replacement_vocab_1[bigram])\n",
        "          break\n",
        "    if flag==0:\n",
        "      spl=ph.split(\" \")\n",
        "      if flag==0:\n",
        "        for i in range(len(spl)-1):\n",
        "          bigram=\" \".join(spl[i:i+2])\n",
        "          if bigram in replacement_vocab:\n",
        "            flag=1\n",
        "            tags.append(replacement_vocab[bigram])\n",
        "            break\n",
        "\n",
        "    if flag==0:\n",
        "      spl=ph.split(\" \")\n",
        "      if flag==0:\n",
        "        for i in range(len(spl)):\n",
        "          unigram=spl[i]\n",
        "          if unigram in unigram_replacement_vocab:\n",
        "            flag=1\n",
        "            tags.append(unigram_replacement_vocab[unigram])\n",
        "            # print(unigram)\n",
        "            break\n",
        "    if flag==0:\n",
        "      tags.append(\"\")\n",
        "\n",
        "  print(len(tags))\n",
        "  return tags\n",
        "\n",
        "\n",
        "\n",
        "from tqdm import tqdm\n",
        "\n",
        "def give_tag_(new_df,replacement_vocab):\n",
        "  tags=[]\n",
        "  for ph in tqdm(new_df[\"phrases\"]):\n",
        "    flag=0\n",
        "    spl=ph.split(\" \")\n",
        "    if flag==0:\n",
        "      for i in range(len(spl)-1):\n",
        "        bigram=\" \".join(spl[i:i+2])\n",
        "        if bigram in replacement_vocab:\n",
        "          flag=1\n",
        "          tags.append(replacement_vocab[bigram])\n",
        "          break\n",
        "    if flag==0:\n",
        "\n",
        "      tags.append(\"\")\n",
        "\n",
        "  print(len(tags))\n",
        "  return tags\n",
        "\n",
        "tags=gave_tag(new_df,replacement_vocab,replacement_vocab_1)\n",
        "\n",
        "new_df[\"phrase_norm\"]=tags"
      ],
      "metadata": {
        "colab": {
          "base_uri": "https://localhost:8080/"
        },
        "id": "pZHyhHR6P8fH",
        "outputId": "cd022fce-0725-4eb2-c907-848bae60d9b2",
        "cellView": "form"
      },
      "execution_count": 344,
      "outputs": [
        {
          "output_type": "stream",
          "name": "stderr",
          "text": [
            "100%|██████████| 1657648/1657648 [00:08<00:00, 195037.29it/s]"
          ]
        },
        {
          "output_type": "stream",
          "name": "stdout",
          "text": [
            "1657648\n"
          ]
        },
        {
          "output_type": "stream",
          "name": "stderr",
          "text": [
            "\n"
          ]
        }
      ]
    },
    {
      "cell_type": "code",
      "source": [
        "#@title preprocessing on final df { form-width: \"2%\" }\n",
        "ddff=new_df.copy()\n",
        "ddff=ddff.replace(r'^\\s*$', np.nan, regex=True)\n",
        "ddff = ddff[ddff['phrase_norm'].notna()]\n",
        "ddff=ddff.reset_index(drop=True)\n",
        "ddff.head()"
      ],
      "metadata": {
        "id": "ZnXtxljc8aDJ",
        "cellView": "form"
      },
      "execution_count": 350,
      "outputs": []
    },
    {
      "cell_type": "code",
      "source": [
        "ddff.head()"
      ],
      "metadata": {
        "colab": {
          "base_uri": "https://localhost:8080/",
          "height": 250
        },
        "id": "rKkoc49TI-w7",
        "outputId": "1fecae5e-3eb0-4673-98c1-14cef4ff39d9"
      },
      "execution_count": 352,
      "outputs": [
        {
          "output_type": "execute_result",
          "data": {
            "text/plain": [
              "                  r_id               p_e_id  sent_neu_score  sent_neg_score  \\\n",
              "0 -9223328818815898130  9041810293446515692        0.000738        0.000038   \n",
              "1 -9223328818815898130  9041810293446515692        0.001654        0.001242   \n",
              "2 -9222828304918768305  5153922226071839655        0.012318        0.000189   \n",
              "3 -9222828304918768305  5153922226071839655        0.002139        0.000762   \n",
              "4 -9222825686026871200  -683321389213928801        0.002101        0.000742   \n",
              "\n",
              "   sent_pos_score                            phrases  sent_tag   phrase_norm  \n",
              "0        0.999046            hair feels well cleaned  positive    hair feels  \n",
              "1        0.996889            hair color stays bright  positive    hair color  \n",
              "2        0.987403          fragrance for a long time  positive     long time  \n",
              "3        0.997045                          long time  positive     long time  \n",
              "4        0.997105  enthusiastic about this fragrance  positive  enthusiastic  "
            ],
            "text/html": [
              "\n",
              "  <div id=\"df-80b7e234-7db3-4959-be03-09fdc5ea0673\">\n",
              "    <div class=\"colab-df-container\">\n",
              "      <div>\n",
              "<style scoped>\n",
              "    .dataframe tbody tr th:only-of-type {\n",
              "        vertical-align: middle;\n",
              "    }\n",
              "\n",
              "    .dataframe tbody tr th {\n",
              "        vertical-align: top;\n",
              "    }\n",
              "\n",
              "    .dataframe thead th {\n",
              "        text-align: right;\n",
              "    }\n",
              "</style>\n",
              "<table border=\"1\" class=\"dataframe\">\n",
              "  <thead>\n",
              "    <tr style=\"text-align: right;\">\n",
              "      <th></th>\n",
              "      <th>r_id</th>\n",
              "      <th>p_e_id</th>\n",
              "      <th>sent_neu_score</th>\n",
              "      <th>sent_neg_score</th>\n",
              "      <th>sent_pos_score</th>\n",
              "      <th>phrases</th>\n",
              "      <th>sent_tag</th>\n",
              "      <th>phrase_norm</th>\n",
              "    </tr>\n",
              "  </thead>\n",
              "  <tbody>\n",
              "    <tr>\n",
              "      <th>0</th>\n",
              "      <td>-9223328818815898130</td>\n",
              "      <td>9041810293446515692</td>\n",
              "      <td>0.000738</td>\n",
              "      <td>0.000038</td>\n",
              "      <td>0.999046</td>\n",
              "      <td>hair feels well cleaned</td>\n",
              "      <td>positive</td>\n",
              "      <td>hair feels</td>\n",
              "    </tr>\n",
              "    <tr>\n",
              "      <th>1</th>\n",
              "      <td>-9223328818815898130</td>\n",
              "      <td>9041810293446515692</td>\n",
              "      <td>0.001654</td>\n",
              "      <td>0.001242</td>\n",
              "      <td>0.996889</td>\n",
              "      <td>hair color stays bright</td>\n",
              "      <td>positive</td>\n",
              "      <td>hair color</td>\n",
              "    </tr>\n",
              "    <tr>\n",
              "      <th>2</th>\n",
              "      <td>-9222828304918768305</td>\n",
              "      <td>5153922226071839655</td>\n",
              "      <td>0.012318</td>\n",
              "      <td>0.000189</td>\n",
              "      <td>0.987403</td>\n",
              "      <td>fragrance for a long time</td>\n",
              "      <td>positive</td>\n",
              "      <td>long time</td>\n",
              "    </tr>\n",
              "    <tr>\n",
              "      <th>3</th>\n",
              "      <td>-9222828304918768305</td>\n",
              "      <td>5153922226071839655</td>\n",
              "      <td>0.002139</td>\n",
              "      <td>0.000762</td>\n",
              "      <td>0.997045</td>\n",
              "      <td>long time</td>\n",
              "      <td>positive</td>\n",
              "      <td>long time</td>\n",
              "    </tr>\n",
              "    <tr>\n",
              "      <th>4</th>\n",
              "      <td>-9222825686026871200</td>\n",
              "      <td>-683321389213928801</td>\n",
              "      <td>0.002101</td>\n",
              "      <td>0.000742</td>\n",
              "      <td>0.997105</td>\n",
              "      <td>enthusiastic about this fragrance</td>\n",
              "      <td>positive</td>\n",
              "      <td>enthusiastic</td>\n",
              "    </tr>\n",
              "  </tbody>\n",
              "</table>\n",
              "</div>\n",
              "      <button class=\"colab-df-convert\" onclick=\"convertToInteractive('df-80b7e234-7db3-4959-be03-09fdc5ea0673')\"\n",
              "              title=\"Convert this dataframe to an interactive table.\"\n",
              "              style=\"display:none;\">\n",
              "        \n",
              "  <svg xmlns=\"http://www.w3.org/2000/svg\" height=\"24px\"viewBox=\"0 0 24 24\"\n",
              "       width=\"24px\">\n",
              "    <path d=\"M0 0h24v24H0V0z\" fill=\"none\"/>\n",
              "    <path d=\"M18.56 5.44l.94 2.06.94-2.06 2.06-.94-2.06-.94-.94-2.06-.94 2.06-2.06.94zm-11 1L8.5 8.5l.94-2.06 2.06-.94-2.06-.94L8.5 2.5l-.94 2.06-2.06.94zm10 10l.94 2.06.94-2.06 2.06-.94-2.06-.94-.94-2.06-.94 2.06-2.06.94z\"/><path d=\"M17.41 7.96l-1.37-1.37c-.4-.4-.92-.59-1.43-.59-.52 0-1.04.2-1.43.59L10.3 9.45l-7.72 7.72c-.78.78-.78 2.05 0 2.83L4 21.41c.39.39.9.59 1.41.59.51 0 1.02-.2 1.41-.59l7.78-7.78 2.81-2.81c.8-.78.8-2.07 0-2.86zM5.41 20L4 18.59l7.72-7.72 1.47 1.35L5.41 20z\"/>\n",
              "  </svg>\n",
              "      </button>\n",
              "      \n",
              "  <style>\n",
              "    .colab-df-container {\n",
              "      display:flex;\n",
              "      flex-wrap:wrap;\n",
              "      gap: 12px;\n",
              "    }\n",
              "\n",
              "    .colab-df-convert {\n",
              "      background-color: #E8F0FE;\n",
              "      border: none;\n",
              "      border-radius: 50%;\n",
              "      cursor: pointer;\n",
              "      display: none;\n",
              "      fill: #1967D2;\n",
              "      height: 32px;\n",
              "      padding: 0 0 0 0;\n",
              "      width: 32px;\n",
              "    }\n",
              "\n",
              "    .colab-df-convert:hover {\n",
              "      background-color: #E2EBFA;\n",
              "      box-shadow: 0px 1px 2px rgba(60, 64, 67, 0.3), 0px 1px 3px 1px rgba(60, 64, 67, 0.15);\n",
              "      fill: #174EA6;\n",
              "    }\n",
              "\n",
              "    [theme=dark] .colab-df-convert {\n",
              "      background-color: #3B4455;\n",
              "      fill: #D2E3FC;\n",
              "    }\n",
              "\n",
              "    [theme=dark] .colab-df-convert:hover {\n",
              "      background-color: #434B5C;\n",
              "      box-shadow: 0px 1px 3px 1px rgba(0, 0, 0, 0.15);\n",
              "      filter: drop-shadow(0px 1px 2px rgba(0, 0, 0, 0.3));\n",
              "      fill: #FFFFFF;\n",
              "    }\n",
              "  </style>\n",
              "\n",
              "      <script>\n",
              "        const buttonEl =\n",
              "          document.querySelector('#df-80b7e234-7db3-4959-be03-09fdc5ea0673 button.colab-df-convert');\n",
              "        buttonEl.style.display =\n",
              "          google.colab.kernel.accessAllowed ? 'block' : 'none';\n",
              "\n",
              "        async function convertToInteractive(key) {\n",
              "          const element = document.querySelector('#df-80b7e234-7db3-4959-be03-09fdc5ea0673');\n",
              "          const dataTable =\n",
              "            await google.colab.kernel.invokeFunction('convertToInteractive',\n",
              "                                                     [key], {});\n",
              "          if (!dataTable) return;\n",
              "\n",
              "          const docLinkHtml = 'Like what you see? Visit the ' +\n",
              "            '<a target=\"_blank\" href=https://colab.research.google.com/notebooks/data_table.ipynb>data table notebook</a>'\n",
              "            + ' to learn more about interactive tables.';\n",
              "          element.innerHTML = '';\n",
              "          dataTable['output_type'] = 'display_data';\n",
              "          await google.colab.output.renderOutput(dataTable, element);\n",
              "          const docLink = document.createElement('div');\n",
              "          docLink.innerHTML = docLinkHtml;\n",
              "          element.appendChild(docLink);\n",
              "        }\n",
              "      </script>\n",
              "    </div>\n",
              "  </div>\n",
              "  "
            ]
          },
          "metadata": {},
          "execution_count": 352
        }
      ]
    },
    {
      "cell_type": "code",
      "source": [
        "ddff.shape"
      ],
      "metadata": {
        "colab": {
          "base_uri": "https://localhost:8080/"
        },
        "id": "oTXv-XduMhs4",
        "outputId": "eb7f2771-5c13-4397-90e9-b5b91c2654e7"
      },
      "execution_count": 353,
      "outputs": [
        {
          "output_type": "execute_result",
          "data": {
            "text/plain": [
              "(1437057, 8)"
            ]
          },
          "metadata": {},
          "execution_count": 353
        }
      ]
    },
    {
      "cell_type": "code",
      "source": [
        "#@title saving the final output { form-width: \"1%\" }\n",
        "#ddff.to_csv(\"/content/drive/MyDrive/review_api/review-model-api-main/processed_csv/final_output.csv\",index=None)"
      ],
      "metadata": {
        "cellView": "form",
        "id": "D8LufulPKV5V"
      },
      "execution_count": 355,
      "outputs": []
    },
    {
      "cell_type": "markdown",
      "source": [
        "## **testing the output**"
      ],
      "metadata": {
        "id": "y9b29thsfmWV"
      }
    },
    {
      "cell_type": "code",
      "source": [
        "df=pd.read_csv(\"/content/drive/MyDrive/review_api/review-model-api-main/processed_csv/final_output.csv\")\n"
      ],
      "metadata": {
        "id": "LAwBI-OK778p"
      },
      "execution_count": 2,
      "outputs": []
    },
    {
      "cell_type": "code",
      "source": [
        "df"
      ],
      "metadata": {
        "colab": {
          "base_uri": "https://localhost:8080/",
          "height": 519
        },
        "id": "JxL67vAU77_b",
        "outputId": "0cb595c1-1df8-44e6-c8c0-b6f97bac5e53"
      },
      "execution_count": 3,
      "outputs": [
        {
          "output_type": "execute_result",
          "data": {
            "text/plain": [
              "                        r_id               p_e_id  sent_neu_score  \\\n",
              "0       -9223328818815898130  9041810293446515692        0.000738   \n",
              "1       -9223328818815898130  9041810293446515692        0.001654   \n",
              "2       -9222828304918768305  5153922226071839655        0.012318   \n",
              "3       -9222828304918768305  5153922226071839655        0.002139   \n",
              "4       -9222825686026871200  -683321389213928801        0.002101   \n",
              "...                      ...                  ...             ...   \n",
              "1437052  9222526729149160970  -495150830619648880        0.013807   \n",
              "1437053  9222470566337421148  2250777992411312234        0.006035   \n",
              "1437054  9221648364451493270 -2346029291979487605        0.025258   \n",
              "1437055  9223277598457306173  -644069247751601838        0.007064   \n",
              "1437056  9223047815230960796 -7160058704493242087        0.001015   \n",
              "\n",
              "         sent_neg_score  sent_pos_score                            phrases  \\\n",
              "0              0.000038        0.999046            hair feels well cleaned   \n",
              "1              0.001242        0.996889            hair color stays bright   \n",
              "2              0.000189        0.987403          fragrance for a long time   \n",
              "3              0.000762        0.997045                          long time   \n",
              "4              0.000742        0.997105  enthusiastic about this fragrance   \n",
              "...                 ...             ...                                ...   \n",
              "1437052        0.001284        0.983931                     skin is rosier   \n",
              "1437053        0.055188        0.931771   reacts very much with impurities   \n",
              "1437054        0.016751        0.913630                    treatment stays   \n",
              "1437055        0.000321        0.992458                     smells so good   \n",
              "1437056        0.000101        0.998748               video and the result   \n",
              "\n",
              "         sent_tag      phrase_norm  \n",
              "0        positive       hair feels  \n",
              "1        positive       hair color  \n",
              "2        positive        long time  \n",
              "3        positive        long time  \n",
              "4        positive     enthusiastic  \n",
              "...           ...              ...  \n",
              "1437052  positive             skin  \n",
              "1437053  positive       impurities  \n",
              "1437054  positive  treatment stays  \n",
              "1437055  positive           smells  \n",
              "1437056  positive           result  \n",
              "\n",
              "[1437057 rows x 8 columns]"
            ],
            "text/html": [
              "\n",
              "  <div id=\"df-b7c095e5-2417-4fb2-8030-17e8d70e1272\">\n",
              "    <div class=\"colab-df-container\">\n",
              "      <div>\n",
              "<style scoped>\n",
              "    .dataframe tbody tr th:only-of-type {\n",
              "        vertical-align: middle;\n",
              "    }\n",
              "\n",
              "    .dataframe tbody tr th {\n",
              "        vertical-align: top;\n",
              "    }\n",
              "\n",
              "    .dataframe thead th {\n",
              "        text-align: right;\n",
              "    }\n",
              "</style>\n",
              "<table border=\"1\" class=\"dataframe\">\n",
              "  <thead>\n",
              "    <tr style=\"text-align: right;\">\n",
              "      <th></th>\n",
              "      <th>r_id</th>\n",
              "      <th>p_e_id</th>\n",
              "      <th>sent_neu_score</th>\n",
              "      <th>sent_neg_score</th>\n",
              "      <th>sent_pos_score</th>\n",
              "      <th>phrases</th>\n",
              "      <th>sent_tag</th>\n",
              "      <th>phrase_norm</th>\n",
              "    </tr>\n",
              "  </thead>\n",
              "  <tbody>\n",
              "    <tr>\n",
              "      <th>0</th>\n",
              "      <td>-9223328818815898130</td>\n",
              "      <td>9041810293446515692</td>\n",
              "      <td>0.000738</td>\n",
              "      <td>0.000038</td>\n",
              "      <td>0.999046</td>\n",
              "      <td>hair feels well cleaned</td>\n",
              "      <td>positive</td>\n",
              "      <td>hair feels</td>\n",
              "    </tr>\n",
              "    <tr>\n",
              "      <th>1</th>\n",
              "      <td>-9223328818815898130</td>\n",
              "      <td>9041810293446515692</td>\n",
              "      <td>0.001654</td>\n",
              "      <td>0.001242</td>\n",
              "      <td>0.996889</td>\n",
              "      <td>hair color stays bright</td>\n",
              "      <td>positive</td>\n",
              "      <td>hair color</td>\n",
              "    </tr>\n",
              "    <tr>\n",
              "      <th>2</th>\n",
              "      <td>-9222828304918768305</td>\n",
              "      <td>5153922226071839655</td>\n",
              "      <td>0.012318</td>\n",
              "      <td>0.000189</td>\n",
              "      <td>0.987403</td>\n",
              "      <td>fragrance for a long time</td>\n",
              "      <td>positive</td>\n",
              "      <td>long time</td>\n",
              "    </tr>\n",
              "    <tr>\n",
              "      <th>3</th>\n",
              "      <td>-9222828304918768305</td>\n",
              "      <td>5153922226071839655</td>\n",
              "      <td>0.002139</td>\n",
              "      <td>0.000762</td>\n",
              "      <td>0.997045</td>\n",
              "      <td>long time</td>\n",
              "      <td>positive</td>\n",
              "      <td>long time</td>\n",
              "    </tr>\n",
              "    <tr>\n",
              "      <th>4</th>\n",
              "      <td>-9222825686026871200</td>\n",
              "      <td>-683321389213928801</td>\n",
              "      <td>0.002101</td>\n",
              "      <td>0.000742</td>\n",
              "      <td>0.997105</td>\n",
              "      <td>enthusiastic about this fragrance</td>\n",
              "      <td>positive</td>\n",
              "      <td>enthusiastic</td>\n",
              "    </tr>\n",
              "    <tr>\n",
              "      <th>...</th>\n",
              "      <td>...</td>\n",
              "      <td>...</td>\n",
              "      <td>...</td>\n",
              "      <td>...</td>\n",
              "      <td>...</td>\n",
              "      <td>...</td>\n",
              "      <td>...</td>\n",
              "      <td>...</td>\n",
              "    </tr>\n",
              "    <tr>\n",
              "      <th>1437052</th>\n",
              "      <td>9222526729149160970</td>\n",
              "      <td>-495150830619648880</td>\n",
              "      <td>0.013807</td>\n",
              "      <td>0.001284</td>\n",
              "      <td>0.983931</td>\n",
              "      <td>skin is rosier</td>\n",
              "      <td>positive</td>\n",
              "      <td>skin</td>\n",
              "    </tr>\n",
              "    <tr>\n",
              "      <th>1437053</th>\n",
              "      <td>9222470566337421148</td>\n",
              "      <td>2250777992411312234</td>\n",
              "      <td>0.006035</td>\n",
              "      <td>0.055188</td>\n",
              "      <td>0.931771</td>\n",
              "      <td>reacts very much with impurities</td>\n",
              "      <td>positive</td>\n",
              "      <td>impurities</td>\n",
              "    </tr>\n",
              "    <tr>\n",
              "      <th>1437054</th>\n",
              "      <td>9221648364451493270</td>\n",
              "      <td>-2346029291979487605</td>\n",
              "      <td>0.025258</td>\n",
              "      <td>0.016751</td>\n",
              "      <td>0.913630</td>\n",
              "      <td>treatment stays</td>\n",
              "      <td>positive</td>\n",
              "      <td>treatment stays</td>\n",
              "    </tr>\n",
              "    <tr>\n",
              "      <th>1437055</th>\n",
              "      <td>9223277598457306173</td>\n",
              "      <td>-644069247751601838</td>\n",
              "      <td>0.007064</td>\n",
              "      <td>0.000321</td>\n",
              "      <td>0.992458</td>\n",
              "      <td>smells so good</td>\n",
              "      <td>positive</td>\n",
              "      <td>smells</td>\n",
              "    </tr>\n",
              "    <tr>\n",
              "      <th>1437056</th>\n",
              "      <td>9223047815230960796</td>\n",
              "      <td>-7160058704493242087</td>\n",
              "      <td>0.001015</td>\n",
              "      <td>0.000101</td>\n",
              "      <td>0.998748</td>\n",
              "      <td>video and the result</td>\n",
              "      <td>positive</td>\n",
              "      <td>result</td>\n",
              "    </tr>\n",
              "  </tbody>\n",
              "</table>\n",
              "<p>1437057 rows × 8 columns</p>\n",
              "</div>\n",
              "      <button class=\"colab-df-convert\" onclick=\"convertToInteractive('df-b7c095e5-2417-4fb2-8030-17e8d70e1272')\"\n",
              "              title=\"Convert this dataframe to an interactive table.\"\n",
              "              style=\"display:none;\">\n",
              "        \n",
              "  <svg xmlns=\"http://www.w3.org/2000/svg\" height=\"24px\"viewBox=\"0 0 24 24\"\n",
              "       width=\"24px\">\n",
              "    <path d=\"M0 0h24v24H0V0z\" fill=\"none\"/>\n",
              "    <path d=\"M18.56 5.44l.94 2.06.94-2.06 2.06-.94-2.06-.94-.94-2.06-.94 2.06-2.06.94zm-11 1L8.5 8.5l.94-2.06 2.06-.94-2.06-.94L8.5 2.5l-.94 2.06-2.06.94zm10 10l.94 2.06.94-2.06 2.06-.94-2.06-.94-.94-2.06-.94 2.06-2.06.94z\"/><path d=\"M17.41 7.96l-1.37-1.37c-.4-.4-.92-.59-1.43-.59-.52 0-1.04.2-1.43.59L10.3 9.45l-7.72 7.72c-.78.78-.78 2.05 0 2.83L4 21.41c.39.39.9.59 1.41.59.51 0 1.02-.2 1.41-.59l7.78-7.78 2.81-2.81c.8-.78.8-2.07 0-2.86zM5.41 20L4 18.59l7.72-7.72 1.47 1.35L5.41 20z\"/>\n",
              "  </svg>\n",
              "      </button>\n",
              "      \n",
              "  <style>\n",
              "    .colab-df-container {\n",
              "      display:flex;\n",
              "      flex-wrap:wrap;\n",
              "      gap: 12px;\n",
              "    }\n",
              "\n",
              "    .colab-df-convert {\n",
              "      background-color: #E8F0FE;\n",
              "      border: none;\n",
              "      border-radius: 50%;\n",
              "      cursor: pointer;\n",
              "      display: none;\n",
              "      fill: #1967D2;\n",
              "      height: 32px;\n",
              "      padding: 0 0 0 0;\n",
              "      width: 32px;\n",
              "    }\n",
              "\n",
              "    .colab-df-convert:hover {\n",
              "      background-color: #E2EBFA;\n",
              "      box-shadow: 0px 1px 2px rgba(60, 64, 67, 0.3), 0px 1px 3px 1px rgba(60, 64, 67, 0.15);\n",
              "      fill: #174EA6;\n",
              "    }\n",
              "\n",
              "    [theme=dark] .colab-df-convert {\n",
              "      background-color: #3B4455;\n",
              "      fill: #D2E3FC;\n",
              "    }\n",
              "\n",
              "    [theme=dark] .colab-df-convert:hover {\n",
              "      background-color: #434B5C;\n",
              "      box-shadow: 0px 1px 3px 1px rgba(0, 0, 0, 0.15);\n",
              "      filter: drop-shadow(0px 1px 2px rgba(0, 0, 0, 0.3));\n",
              "      fill: #FFFFFF;\n",
              "    }\n",
              "  </style>\n",
              "\n",
              "      <script>\n",
              "        const buttonEl =\n",
              "          document.querySelector('#df-b7c095e5-2417-4fb2-8030-17e8d70e1272 button.colab-df-convert');\n",
              "        buttonEl.style.display =\n",
              "          google.colab.kernel.accessAllowed ? 'block' : 'none';\n",
              "\n",
              "        async function convertToInteractive(key) {\n",
              "          const element = document.querySelector('#df-b7c095e5-2417-4fb2-8030-17e8d70e1272');\n",
              "          const dataTable =\n",
              "            await google.colab.kernel.invokeFunction('convertToInteractive',\n",
              "                                                     [key], {});\n",
              "          if (!dataTable) return;\n",
              "\n",
              "          const docLinkHtml = 'Like what you see? Visit the ' +\n",
              "            '<a target=\"_blank\" href=https://colab.research.google.com/notebooks/data_table.ipynb>data table notebook</a>'\n",
              "            + ' to learn more about interactive tables.';\n",
              "          element.innerHTML = '';\n",
              "          dataTable['output_type'] = 'display_data';\n",
              "          await google.colab.output.renderOutput(dataTable, element);\n",
              "          const docLink = document.createElement('div');\n",
              "          docLink.innerHTML = docLinkHtml;\n",
              "          element.appendChild(docLink);\n",
              "        }\n",
              "      </script>\n",
              "    </div>\n",
              "  </div>\n",
              "  "
            ]
          },
          "metadata": {},
          "execution_count": 3
        }
      ]
    },
    {
      "cell_type": "code",
      "source": [
        "df[\"phrase_norm\"].value_counts()"
      ],
      "metadata": {
        "colab": {
          "base_uri": "https://localhost:8080/"
        },
        "id": "SwvG5Yic-_z6",
        "outputId": "db0cc213-e9d7-44b7-df85-1e60f6d14e7d"
      },
      "execution_count": 4,
      "outputs": [
        {
          "output_type": "execute_result",
          "data": {
            "text/plain": [
              "easy                 26135\n",
              "skin                 22809\n",
              "hair                 21593\n",
              "scent                21516\n",
              "free trial           19406\n",
              "                     ...  \n",
              "dandelion cake           1\n",
              "non-slip profile         1\n",
              "three-four hours         1\n",
              "manhattan locarno        1\n",
              "treatment stays          1\n",
              "Name: phrase_norm, Length: 139234, dtype: int64"
            ]
          },
          "metadata": {},
          "execution_count": 4
        }
      ]
    },
    {
      "cell_type": "markdown",
      "source": [
        "## **few DUCK DB commands**"
      ],
      "metadata": {
        "id": "hzl6_xXefzjo"
      }
    },
    {
      "cell_type": "code",
      "source": [
        "!pip install duckdb==0.3.2"
      ],
      "metadata": {
        "colab": {
          "base_uri": "https://localhost:8080/"
        },
        "id": "AgzYvlGL78CY",
        "outputId": "c4c7f38f-7840-4f73-b0ce-b08f0fc9ab86"
      },
      "execution_count": 5,
      "outputs": [
        {
          "output_type": "stream",
          "name": "stdout",
          "text": [
            "Collecting duckdb==0.3.2\n",
            "  Downloading duckdb-0.3.2-cp37-cp37m-manylinux_2_17_x86_64.manylinux2014_x86_64.whl (12.5 MB)\n",
            "\u001b[K     |████████████████████████████████| 12.5 MB 4.5 MB/s \n",
            "\u001b[?25hRequirement already satisfied: numpy>=1.14 in /usr/local/lib/python3.7/dist-packages (from duckdb==0.3.2) (1.21.5)\n",
            "Installing collected packages: duckdb\n",
            "Successfully installed duckdb-0.3.2\n"
          ]
        }
      ]
    },
    {
      "cell_type": "code",
      "source": [
        "import duckdb\n",
        "# to start an in-memory database\n",
        "con = duckdb.connect(database=':memory:')\n",
        "# to use a database file (not shared between processes)\n",
        "con = duckdb.connect(database='my-db.duckdb', read_only=False)\n",
        "# to use a database file (shared between processes)\n",
        "con = duckdb.connect(database='my-db.duckdb', read_only=True)"
      ],
      "metadata": {
        "id": "aTPVZ_PY78La"
      },
      "execution_count": 6,
      "outputs": []
    },
    {
      "cell_type": "code",
      "source": [
        "df.to_parquet(\"output_packet.parquet\")"
      ],
      "metadata": {
        "id": "EhWrXmkb78QD"
      },
      "execution_count": 7,
      "outputs": []
    },
    {
      "cell_type": "code",
      "source": [
        "SELECT * FROM read_parquet('test.parquet');"
      ],
      "metadata": {
        "id": "aqFODXCCqt_U"
      },
      "execution_count": null,
      "outputs": []
    },
    {
      "cell_type": "code",
      "source": [
        "con.register('test_df_view', df)"
      ],
      "metadata": {
        "colab": {
          "base_uri": "https://localhost:8080/"
        },
        "id": "2YaweMm6pIrP",
        "outputId": "7b454b38-5b9b-47cb-e394-bfff7267f1a8"
      },
      "execution_count": 8,
      "outputs": [
        {
          "output_type": "execute_result",
          "data": {
            "text/plain": [
              "<duckdb.DuckDBPyConnection at 0x7f066ea454f0>"
            ]
          },
          "metadata": {},
          "execution_count": 8
        }
      ]
    },
    {
      "cell_type": "code",
      "source": [
        "con.execute(\"SELECT phrase_norm,count(*)\\\n",
        "            FROM test_df_view\\\n",
        "            GROUP BY phrase_norm\")"
      ],
      "metadata": {
        "id": "NhIj07Wl78SS",
        "colab": {
          "base_uri": "https://localhost:8080/"
        },
        "outputId": "ead40295-06a6-421b-bcbe-cce058d2f47d"
      },
      "execution_count": 12,
      "outputs": [
        {
          "output_type": "execute_result",
          "data": {
            "text/plain": [
              "<duckdb.DuckDBPyConnection at 0x7f066ea454f0>"
            ]
          },
          "metadata": {},
          "execution_count": 12
        }
      ]
    },
    {
      "cell_type": "code",
      "source": [
        "con.fetchall()"
      ],
      "metadata": {
        "colab": {
          "base_uri": "https://localhost:8080/"
        },
        "id": "ullDSKOcgLm-",
        "outputId": "d73c2660-6133-46cc-88a1-e6a7f901a34a"
      },
      "execution_count": 13,
      "outputs": [
        {
          "output_type": "execute_result",
          "data": {
            "text/plain": [
              "[('hair feels', 5772),\n",
              " ('hair color', 1368),\n",
              " ('nice', 3717),\n",
              " ('expectations', 636),\n",
              " ('fit mai', 81),\n",
              " ('heat balm', 2),\n",
              " ('immediately rises', 2),\n",
              " ('buy recommendation', 812),\n",
              " ('eyebrow pencil', 670),\n",
              " ('birthday', 347),\n",
              " ('application', 4463),\n",
              " ('quickly absorbed', 11558),\n",
              " ('skin feels', 8962),\n",
              " ('higher-priced serum', 1),\n",
              " ('short eyelashes', 176),\n",
              " ('price performance', 354),\n",
              " ('mascara takes', 4),\n",
              " ('perfume', 5896),\n",
              " ('hair structure', 339),\n",
              " ('hair', 21593),\n",
              " ('hair looks', 1834),\n",
              " ('finish', 670),\n",
              " ('super easy', 5987),\n",
              " ('facial skin', 711),\n",
              " ('beard hair', 147),\n",
              " ('smells', 10087),\n",
              " ('lips', 3310),\n",
              " ('retro dark', 3),\n",
              " ('color result', 663),\n",
              " ('reddened skin', 47),\n",
              " ('eyelash curler', 269),\n",
              " ('single product', 29),\n",
              " ('recently received', 105),\n",
              " ('tart wooden', 1),\n",
              " ('moisture', 2054),\n",
              " ('brush', 4156),\n",
              " ('hairspray', 788),\n",
              " ('shine', 1972),\n",
              " ('sexy scent', 32),\n",
              " ('compliments', 913),\n",
              " ('women', 739),\n",
              " ('perfume smells', 451),\n",
              " ('travel size', 94),\n",
              " ('thin eyelashes', 38),\n",
              " ('completely unknown', 3),\n",
              " ('nail polish', 1356),\n",
              " ('bit whiter', 6),\n",
              " ('taste', 682),\n",
              " ('free sample', 3167),\n",
              " ('sensual combination', 5),\n",
              " ('sponge feels', 11),\n",
              " ('skin soft', 226),\n",
              " ('buy anymore', 42),\n",
              " ('durability', 1882),\n",
              " ('citrus perfumes', 1),\n",
              " ('anti-wrinkle day', 10),\n",
              " ('convinced', 2111),\n",
              " ('pleasant feeling', 2423),\n",
              " ('skin', 22809),\n",
              " ('eyelashes beautifully', 136),\n",
              " ('product test', 5473),\n",
              " ('shampoo leaves', 70),\n",
              " ('super suitable', 92),\n",
              " ('small string', 1),\n",
              " ('nivea sensitive', 45),\n",
              " ('consistency', 4228),\n",
              " ('cold winter', 69),\n",
              " ('oily skin', 1322),\n",
              " ('loréal', 360),\n",
              " ('sensitive cleaning', 3),\n",
              " ('removed immediately', 4),\n",
              " ('eyes', 2069),\n",
              " ('fits perfectly', 803),\n",
              " ('easy cleaning', 22),\n",
              " ('sensitive skin', 3713),\n",
              " ('well-tolerated cream', 7),\n",
              " ('pretty quickly', 64),\n",
              " ('summer', 1535),\n",
              " ('purchase decision', 29),\n",
              " ('blush interdikt', 1),\n",
              " ('husband', 1529),\n",
              " ('smells irresistibly', 10),\n",
              " ('smells wonderfully', 205),\n",
              " ('fine hair', 792),\n",
              " ('electric hair', 4),\n",
              " ('greasy faster', 40),\n",
              " ('lancôme mascara', 28),\n",
              " ('simply unbeatable', 135),\n",
              " ('positive reviews', 373),\n",
              " ('highly recommended', 5393),\n",
              " ('smell', 7904),\n",
              " ('pleasant skin', 229),\n",
              " ('longer imagine', 58),\n",
              " ('satisfied', 4420),\n",
              " ('absorbs', 692),\n",
              " ('nice product', 264),\n",
              " ('fragrance', 13214),\n",
              " ('maximum care', 6),\n",
              " ('pleasant scent', 6917),\n",
              " ('hair smells', 564),\n",
              " ('light cream', 131),\n",
              " ('pleasant freshness', 56),\n",
              " ('biotherm day', 1),\n",
              " ('special clean', 5),\n",
              " ('pleasant consistency', 700),\n",
              " ('completely satisfied', 1742),\n",
              " ('eye', 1996),\n",
              " ('finally found', 1133),\n",
              " ('favorite baker', 6),\n",
              " ('heat protection', 522),\n",
              " ('swing moderately', 1),\n",
              " ('brightthe mascara', 1),\n",
              " ('reasons mentioned', 9),\n",
              " ('wonderfully soft', 552),\n",
              " ('skin nice', 134),\n",
              " ('complicated skin', 19),\n",
              " ('instagram page', 1),\n",
              " ('long', 2547),\n",
              " ('intense color', 295),\n",
              " ('absolutely convinced', 459),\n",
              " ('firmer', 283),\n",
              " ('opacity', 722),\n",
              " ('kote dry', 30),\n",
              " ('feels soft', 597),\n",
              " ('exceptionally annoying', 1),\n",
              " ('holiday feeling', 42),\n",
              " ('moisturizes', 920),\n",
              " ('immediately', 1806),\n",
              " ('thick eyelashes', 148),\n",
              " ('sensual fragrance', 279),\n",
              " ('feels', 5278),\n",
              " ('subtle', 612),\n",
              " ('deduction', 470),\n",
              " ('super pleasant', 896),\n",
              " ('small amount', 1531),\n",
              " ('wash scrub', 44),\n",
              " ('trouble getting', 7),\n",
              " ('davidoff fragrances', 6),\n",
              " ('age spots', 114),\n",
              " ('street dog', 13),\n",
              " ('time management', 6),\n",
              " ('color barely', 3),\n",
              " ('liquid', 569),\n",
              " ('taffeta volume', 63),\n",
              " ('dosage', 244),\n",
              " ('difficult', 1584),\n",
              " ('irresistible scent', 39),\n",
              " ('notice', 1622),\n",
              " ('looks fresher', 109),\n",
              " ('previous review', 18),\n",
              " ('matte version', 20),\n",
              " ('naturally wavy', 33),\n",
              " ('consistency naturally', 1),\n",
              " ('rarely invested', 1),\n",
              " ('care effect', 1309),\n",
              " ('pink', 259),\n",
              " ('bush perfectly', 2),\n",
              " ('foam burns', 1),\n",
              " ('prada candy', 38),\n",
              " ('feels supple', 201),\n",
              " ('eau de', 826),\n",
              " ('douglas jumbo', 1),\n",
              " ('natural shine', 136),\n",
              " ('additional practice', 1),\n",
              " ('lashes look', 76),\n",
              " ('high level', 104),\n",
              " ('thrilled', 4428),\n",
              " ('likeable brand', 2),\n",
              " ('soft brown', 12),\n",
              " ('color matches', 105),\n",
              " ('eyeshadow', 518),\n",
              " ('eyelash brush', 43),\n",
              " ('greasy film', 1428),\n",
              " ('watermelon scent', 7),\n",
              " ('absolutely recommend', 404),\n",
              " ('washing', 1599),\n",
              " ('simply orange', 1),\n",
              " ('style', 496),\n",
              " ('advantage', 143),\n",
              " ('dark circles', 1205),\n",
              " ('added masses', 1),\n",
              " ('eyelashes super', 74),\n",
              " ('playful sweetness', 4),\n",
              " ('pregnant women', 4),\n",
              " ('base underneath', 9),\n",
              " ('wear contact', 69),\n",
              " ('lotion', 906),\n",
              " ('price range', 239),\n",
              " ('long period', 121),\n",
              " ('additional moisturizer', 3),\n",
              " ('forehead', 272),\n",
              " ('month ago', 953),\n",
              " ('toilette smells', 13),\n",
              " ('upper eyelids', 10),\n",
              " ('super fine', 95),\n",
              " ('bleached hair', 277),\n",
              " ('gloss conditioner', 3),\n",
              " ('nice lip', 20),\n",
              " ('completely accurate', 1),\n",
              " ('colors', 3749),\n",
              " ('helping hand', 2),\n",
              " ('cost-effective result', 1),\n",
              " ('forest meadow', 2),\n",
              " ('long lasting', 872),\n",
              " ('make-up', 2334),\n",
              " ('douglas branch', 147),\n",
              " ('wearing comfort', 405),\n",
              " ('cleans gently', 59),\n",
              " ('mega nice', 27),\n",
              " ('clean', 1136),\n",
              " ('sun protection', 944),\n",
              " ('super nice', 1103),\n",
              " ('wonderful fragrance', 303),\n",
              " ('covers', 1212),\n",
              " ('exfoliating powder', 21),\n",
              " ('cleans pores', 13),\n",
              " ('bright', 315),\n",
              " ('healthier day', 2),\n",
              " ('wear super', 7),\n",
              " ('recommended', 1850),\n",
              " ('totally disappointed', 157),\n",
              " ('vanity cabinet', 4),\n",
              " ('total skeptic', 1),\n",
              " ('unobtrusive scent', 140),\n",
              " ('liquid highlighter', 44),\n",
              " ('dries', 682),\n",
              " ('ordinate products', 6),\n",
              " ('hair dryer', 498),\n",
              " ('hair look', 392),\n",
              " ('natural cosmetics', 259),\n",
              " ('gift', 1341),\n",
              " ('wrong color', 42),\n",
              " ('color coat', 5),\n",
              " ('warm summer', 96),\n",
              " ('long solo', 1),\n",
              " ('unpleasant shine', 18),\n",
              " ('bit firmer', 91),\n",
              " ('dusky pink', 15),\n",
              " ('ache perfect', 204),\n",
              " ('day carei', 3),\n",
              " ('completely dispenses', 5),\n",
              " ('large selection', 57),\n",
              " ('negative reviews', 103),\n",
              " ('mary-lou mainzer', 28),\n",
              " ('face shine', 53),\n",
              " ('packaging victim', 6),\n",
              " ('earth tones', 15),\n",
              " ('blogger cathleen', 1),\n",
              " ('expensive creams', 20),\n",
              " ('inconspicuous days', 1),\n",
              " ('beautiful burgundy', 2),\n",
              " ('paint applications', 1),\n",
              " ('eyeshadow lasts', 95),\n",
              " ('neck', 540),\n",
              " ('skin feeling', 2630),\n",
              " ('brittle hair', 145),\n",
              " ('pantine pro-v', 146),\n",
              " ('softer', 588),\n",
              " ('power gel', 9),\n",
              " ('holds perfectly', 76),\n",
              " ('strong black', 25),\n",
              " ('skin cleaner', 4),\n",
              " ('friend recommended', 50),\n",
              " ('perfect blend', 15),\n",
              " ('darken extremely', 5),\n",
              " ('floral vanilla', 3),\n",
              " ('kept neutral', 1),\n",
              " ('shea butterthe', 1),\n",
              " ('quick results', 15),\n",
              " ('product delivers', 284),\n",
              " ('melting gently', 3),\n",
              " ('visibly reduced', 129),\n",
              " ('pleasant smell', 1849),\n",
              " ('straw-like hair', 101),\n",
              " ('testing', 2455),\n",
              " ('small footpaths', 1),\n",
              " ('absolute buy', 860),\n",
              " ('fly legs', 456),\n",
              " ('single eyelash', 37),\n",
              " ('oral-b children', 3),\n",
              " ('night creams', 30),\n",
              " ('elbtal hair', 5),\n",
              " ('cure daily', 2),\n",
              " ('morula oil', 29),\n",
              " ('young mothers', 1),\n",
              " ('favorite fragrance', 469),\n",
              " ('wonderfully fresh', 282),\n",
              " ('cream absorbed', 4),\n",
              " ('quick', 831),\n",
              " ('range forever', 11),\n",
              " ('smells incredibly', 355),\n",
              " ('korean products', 6),\n",
              " ('super natural', 284),\n",
              " ('beautiful shimmer', 77),\n",
              " ('delivers', 1466),\n",
              " ('panda eyes', 89),\n",
              " ('smells fresh', 452),\n",
              " ('gucci boom', 100),\n",
              " ('beautiful modern', 1),\n",
              " ('floral design', 9),\n",
              " ('nice summer', 81),\n",
              " ('argan oil', 120),\n",
              " ('half empty', 30),\n",
              " ('lipsticks', 723),\n",
              " ('cleaning performance', 272),\n",
              " ('purchase process', 4),\n",
              " ('gentle floral', 8),\n",
              " ('rinse', 579),\n",
              " ('blonde highlight', 4),\n",
              " ('acid peeling', 4),\n",
              " ('thick', 457),\n",
              " ('watch makes', 12),\n",
              " ('aquatic scents', 3),\n",
              " ('eyes brown', 22),\n",
              " ('recently discovered', 36),\n",
              " ('brushing', 455),\n",
              " ('lip gloss', 774),\n",
              " ('presentation promises', 1),\n",
              " ('inking naturally', 1),\n",
              " ('longer', 2949),\n",
              " ('hair nicely', 46),\n",
              " ('momentum lasts', 9),\n",
              " ('expect fall-out', 1),\n",
              " ('feels mild', 2),\n",
              " ('coverage', 2727),\n",
              " ('texture', 2616),\n",
              " ('recommend applying', 44),\n",
              " ('light scent', 470),\n",
              " ('grease', 356),\n",
              " ('depending', 291),\n",
              " ('beautiful everyday', 34),\n",
              " ('lip balm', 533),\n",
              " ('tested care', 3),\n",
              " ('radiant complexion', 149),\n",
              " ('quickly voluminous', 6),\n",
              " ('highlighter stick', 8),\n",
              " ('eating greasy', 8),\n",
              " ('lips feel', 467),\n",
              " ('eckstein products', 5),\n",
              " ('tolerate cream', 2),\n",
              " ('delicate eye', 11),\n",
              " ('extremely', 238),\n",
              " ('sensitive eyes', 440),\n",
              " ('purchase recommendation', 1035),\n",
              " ('beautifully smooth', 79),\n",
              " ('shape', 604),\n",
              " ('perfect finish', 84),\n",
              " ('shampoo foams', 252),\n",
              " ('thick lashes', 32),\n",
              " ('healthy teeth', 12),\n",
              " ('bit annoying', 45),\n",
              " ('comfortable', 3046),\n",
              " ('fits comfortably', 277),\n",
              " ('recommend remake-up', 1),\n",
              " ('smells vanilla', 2),\n",
              " ('incredibly happy', 23),\n",
              " ('love highlighters', 3),\n",
              " ('directly', 436),\n",
              " ('smells elegant', 10),\n",
              " ('smell remains', 18),\n",
              " ('previous eyeliner', 3),\n",
              " ('smells fantastic', 209),\n",
              " ('covers perfectly', 195),\n",
              " ('shining oil', 1),\n",
              " ('liquid slapstick', 267),\n",
              " ('absolute highlight', 72),\n",
              " ('armani makes', 3),\n",
              " ('absolutely perfectly', 2),\n",
              " ('smoothes fine', 15),\n",
              " ('shower milk', 16),\n",
              " ('clique fan', 9),\n",
              " ('super mild', 29),\n",
              " ('super cleansed', 30),\n",
              " ('bau sau', 17),\n",
              " ('pleasant taste', 77),\n",
              " ('cleaning result', 170),\n",
              " ('perfect scent', 119),\n",
              " ('nice deep', 12),\n",
              " ('real pasha', 1),\n",
              " ('nails', 345),\n",
              " ('hair dry', 55),\n",
              " ('pimples quickly', 6),\n",
              " ('natural coverage', 38),\n",
              " ('beautiful long', 129),\n",
              " ('skin pleasantly', 75),\n",
              " ('blow-drying makes', 4),\n",
              " ('coming summer', 23),\n",
              " ('nice light', 210),\n",
              " ('handy', 301),\n",
              " ('super shader', 1),\n",
              " ('incredible dominus', 1),\n",
              " ('camellia women', 8),\n",
              " ('feeling super', 20),\n",
              " ('fine mist', 86),\n",
              " ('complexion appears', 42),\n",
              " ('long-term effect', 215),\n",
              " ('lancôme products', 34),\n",
              " ('von plus', 4),\n",
              " ('long days', 19),\n",
              " ('practical test', 32),\n",
              " ('hand nails', 5),\n",
              " ('vichy mineral', 8),\n",
              " ('type power', 55),\n",
              " ('pack size', 25),\n",
              " ('soft hands', 21),\n",
              " ('low fragrance', 3),\n",
              " ('maer delivers', 1),\n",
              " ('nice composition', 5),\n",
              " ('dry hair', 1227),\n",
              " ('fresh fragrances', 12),\n",
              " ('scent makes', 61),\n",
              " ('positive', 658),\n",
              " ('feel supple', 75),\n",
              " ('star deduction', 646),\n",
              " ('sophisticated scent', 3),\n",
              " ('fruity smell', 24),\n",
              " ('cool effect', 23),\n",
              " ('everyday life', 1315),\n",
              " ('skeptical', 319),\n",
              " ('slightly lower', 8),\n",
              " ('tinted day', 185),\n",
              " ('easy application', 307),\n",
              " ('douglas', 1039),\n",
              " ('powder', 2513),\n",
              " ('evaporate directly', 2),\n",
              " ('strands super', 1),\n",
              " ('intense colors', 34),\n",
              " ('inexpensive blush', 2),\n",
              " ('completely successful', 9),\n",
              " ('dior fragrance', 7),\n",
              " ('beautiful fragrance', 169),\n",
              " ('small child', 8),\n",
              " ('combed', 255),\n",
              " ('color adapts', 44),\n",
              " ('rough skin', 36),\n",
              " ('light coverage', 159),\n",
              " ('pump head', 29),\n",
              " ('lip color', 146),\n",
              " ('strong start', 3),\n",
              " ('completely transparent', 9),\n",
              " ('wide brush', 84),\n",
              " ('aromatic fascinating', 1),\n",
              " ('hyaluronic serum', 27),\n",
              " ('slight shimmer', 65),\n",
              " ('pack lasts', 5),\n",
              " ('product recommended', 21),\n",
              " ('young anymore', 5),\n",
              " ('wrist fits', 1),\n",
              " ('trat product', 10),\n",
              " ('armani code', 103),\n",
              " ('cold weather', 31),\n",
              " ('tips feel', 39),\n",
              " ('bush', 270),\n",
              " ('puffy eyes', 12),\n",
              " ('super results', 4),\n",
              " ('team hang', 141),\n",
              " ('sweet scent', 228),\n",
              " ('foundation deep', 1),\n",
              " ('skin shine', 110),\n",
              " ('skin perfectly', 141),\n",
              " ('nail tips', 20),\n",
              " ('masculine sensual', 3),\n",
              " ('light white', 7),\n",
              " ('blue shampoo', 2),\n",
              " ('yellow undertone', 33),\n",
              " ('mutation online', 1),\n",
              " ('bright tick', 1),\n",
              " ('flexible hold', 27),\n",
              " ('wearing experience', 56),\n",
              " ('favorite lip', 42),\n",
              " ('dosed precisely', 5),\n",
              " ('wonderful care', 48),\n",
              " ('product convinced', 191),\n",
              " ('split', 555),\n",
              " ('lasts long', 26),\n",
              " ('supermarkets carry', 1),\n",
              " ('days', 1826),\n",
              " ('best perfume', 15),\n",
              " ('particularly striking', 4),\n",
              " ('super economical', 161),\n",
              " ('gentle cleaning', 68),\n",
              " ('sensitive meat', 2),\n",
              " ('protects super', 2),\n",
              " ('refreshing', 654),\n",
              " ('super gentle', 120),\n",
              " ('past', 201),\n",
              " ('makes daily', 7),\n",
              " ('pleasantly sweet', 49),\n",
              " ('relaxing weekend', 2),\n",
              " ('setting powders', 3),\n",
              " ('diamond signature', 1),\n",
              " ('recommend energie', 3),\n",
              " ('oil', 1268),\n",
              " ('spring-like fragrance', 3),\n",
              " ('colours suitable', 6),\n",
              " ('skin super', 226),\n",
              " ('super beautiful', 499),\n",
              " ('bad reviews', 66),\n",
              " ('irritating scent', 3),\n",
              " ('long search', 183),\n",
              " ('pleasant shave', 10),\n",
              " ('beautiful bright', 31),\n",
              " ('oily shine', 10),\n",
              " ('feels nice', 184),\n",
              " ('care', 3741),\n",
              " ('medium blonde', 80),\n",
              " ('costs half', 6),\n",
              " ('nice density', 6),\n",
              " ('sponge', 520),\n",
              " ('care cream', 158),\n",
              " ('favorite fragrances', 178),\n",
              " ('pleasantly velvety', 13),\n",
              " ('short time', 1932),\n",
              " ('layer', 228),\n",
              " ('curls feel', 6),\n",
              " ('fresh summer', 76),\n",
              " ('teeth feel', 393),\n",
              " ('easily imagine', 12),\n",
              " ('beautifully soft', 462),\n",
              " ('intensive volume', 5),\n",
              " ('hanoi woods', 1),\n",
              " ('hair feel', 387),\n",
              " ('warm season', 59),\n",
              " ('smells nice', 332),\n",
              " ('penaten cream', 17),\n",
              " ('ausgab lip', 3),\n",
              " ('finished handling', 3),\n",
              " ('wrinkles', 1900),\n",
              " ('buying', 1205),\n",
              " ('result convinced', 94),\n",
              " ('moisturizing u.es', 1),\n",
              " ('daily cleaning', 49),\n",
              " ('10-12 hours', 10),\n",
              " ('lavender frame', 2),\n",
              " ('covers light', 30),\n",
              " ('color selection', 361),\n",
              " ('slight yellow', 30),\n",
              " ('oral-b brush', 60),\n",
              " ('night day', 3),\n",
              " ('unsightly appearance', 6),\n",
              " ('hair soft', 222),\n",
              " ('expensive', 766),\n",
              " ('reliably covering', 2),\n",
              " ('cream surprised', 4),\n",
              " ('slightly dry', 83),\n",
              " ('cares', 1447),\n",
              " ('totally overpriced', 19),\n",
              " ('immediately notice', 208),\n",
              " ('noticeably smoother', 60),\n",
              " ('super long', 769),\n",
              " ('grooming pen', 18),\n",
              " ('last long', 215),\n",
              " ('bought color', 7),\n",
              " ('main incentive', 1),\n",
              " ('product smells', 404),\n",
              " ('positive changes', 11),\n",
              " ('product anymore', 90),\n",
              " ('reliably covers', 70),\n",
              " ('nice volume', 216),\n",
              " ('nice colors', 152),\n",
              " ('optimal preparation', 5),\n",
              " ('redness super', 1),\n",
              " ('nice eyebrow', 7),\n",
              " ('comfortable feeling', 111),\n",
              " ('storage tray', 2),\n",
              " ('bit old-fashioned', 7),\n",
              " ('larger volume', 3),\n",
              " ('body lotion', 1424),\n",
              " ('discovered olga', 1),\n",
              " ('personally buy', 8),\n",
              " ('hair daily', 60),\n",
              " ('waterproof mascara', 590),\n",
              " ('mask dries', 6),\n",
              " ('redness', 870),\n",
              " ('stays', 1186),\n",
              " ('reduces wrinkles', 141),\n",
              " ('primarily expect', 1),\n",
              " ('cream lifts', 1),\n",
              " ('shaving cream', 166),\n",
              " ('lighter color', 30),\n",
              " ('express hair', 61),\n",
              " ('creamy emulsion', 24),\n",
              " ('master plans', 21),\n",
              " ('helped improve', 6),\n",
              " ('cream smells', 592),\n",
              " ('well-groomed skin', 147),\n",
              " ('tube lasts', 23),\n",
              " ('similar effect', 11),\n",
              " ('covers dark', 122),\n",
              " ('perfect shampoo', 19),\n",
              " ('dior torskin', 1),\n",
              " ('valletta mat', 1),\n",
              " ('notice fruitiness', 1),\n",
              " ('fragrance lacks', 3),\n",
              " ('slightly sweet', 253),\n",
              " ('gucci mascara', 30),\n",
              " ('pleasant aroma', 52),\n",
              " ('colors honeylove', 1),\n",
              " ('perfect goodness', 1),\n",
              " ('neutral coral', 1),\n",
              " ('crack type', 4),\n",
              " ('creams', 426),\n",
              " ('minimal improvements', 1),\n",
              " ('serum allowed', 7),\n",
              " ('prefer fresh', 16),\n",
              " ('simply recommended', 61),\n",
              " ('beard', 495),\n",
              " ('hair milk', 92),\n",
              " ('pleasantly fresh', 419),\n",
              " ('problems shaving', 3),\n",
              " ('simply knead', 18),\n",
              " ('plastic clarification', 1),\n",
              " ('small mini-tube', 2),\n",
              " ('douglas box', 51),\n",
              " ('make-up wipes', 149),\n",
              " ('absolutely satisfied', 219),\n",
              " ('rich shampoo', 28),\n",
              " ('body fragrance', 22),\n",
              " ('yellow tinge', 221),\n",
              " ('brush absorbs', 20),\n",
              " ('heavenly lynx', 3),\n",
              " ('frizzy tips', 3),\n",
              " ('cream appealed', 1),\n",
              " ('slight fresh', 6),\n",
              " ('individually wrapped', 5),\n",
              " ('battery life', 199),\n",
              " ('perfect lubliner', 1),\n",
              " ('last longer', 102),\n",
              " ('beautifully floral', 28),\n",
              " ('positive change', 57),\n",
              " ('super light', 465),\n",
              " ('super quality', 186),\n",
              " ('applied easily', 42),\n",
              " ('bottle looks', 202),\n",
              " ('simply indescribable', 34),\n",
              " ('setting spray', 398),\n",
              " ('wooden top', 1),\n",
              " ('brittle hands', 6),\n",
              " ('bottle fits', 32),\n",
              " ('fruity-scented product', 1),\n",
              " ('high price', 451),\n",
              " ('super positively', 11),\n",
              " ('head feels', 5),\n",
              " ('apply mascara', 29),\n",
              " ('mascara delivers', 72),\n",
              " ('2-3 applications', 9),\n",
              " ('remained white', 2),\n",
              " ('excess skin', 6),\n",
              " ('started quickly', 2),\n",
              " ('conventional basis', 1),\n",
              " ('glow', 596),\n",
              " ('naturally radiant', 12),\n",
              " ('normal non-matting', 1),\n",
              " ('am cautiously', 1),\n",
              " ('beautiful result', 73),\n",
              " ('bin enthusiastic', 5),\n",
              " ('sleep quality', 4),\n",
              " ('size', 610),\n",
              " ('small deduction', 13),\n",
              " ('magyar facial', 5),\n",
              " ('highly effective', 64),\n",
              " ('water', 808),\n",
              " ('smells damn', 5),\n",
              " ('hair dye', 88),\n",
              " ('phase care', 4),\n",
              " ('cleaning', 820),\n",
              " ('super cool', 77),\n",
              " ('dolce vita', 18),\n",
              " ('long service', 75),\n",
              " ('black colored', 6),\n",
              " ('perfect lip', 11),\n",
              " ('brilliant shine', 11),\n",
              " ('bit masculine', 8),\n",
              " ('beautiful lips', 26),\n",
              " ('daily skin', 28),\n",
              " ('favorite mascara', 205),\n",
              " ('hair finally', 28),\n",
              " ('hours', 1515),\n",
              " ('super comfortable', 409),\n",
              " ('skin tone', 1188),\n",
              " ('incredibly', 432),\n",
              " ('hair breakage', 232),\n",
              " ('retains moisture', 22),\n",
              " ('seen immediately', 12),\n",
              " ('lashes', 641),\n",
              " ('elegant design', 110),\n",
              " ('kimme brot', 9),\n",
              " ('micellar water', 1103),\n",
              " ('cream morning', 17),\n",
              " ('wash', 1499),\n",
              " ('looks totally', 68),\n",
              " ('matte finish', 409),\n",
              " ('individual lashes', 58),\n",
              " ('express birth', 6),\n",
              " ('christina agiler', 299),\n",
              " ('customer service', 57),\n",
              " ('effect immediately', 33),\n",
              " ('mascara macke', 1),\n",
              " ('cools', 221),\n",
              " ('anti-excess dosing', 1),\n",
              " ('dry shampoo', 1437),\n",
              " ('foam', 774),\n",
              " ('nice easy', 1),\n",
              " ('eyeliner super', 2),\n",
              " ('strong', 830),\n",
              " ('laures hat', 3),\n",
              " ('dark brown', 351),\n",
              " ('skin itched', 5),\n",
              " ('pure habit', 1),\n",
              " ('hot summer', 160),\n",
              " ('permanent hair', 11),\n",
              " ('look healthier', 31),\n",
              " ('lease-in product', 3),\n",
              " ('husband impure', 1),\n",
              " ('light color', 96),\n",
              " ('coloring', 279),\n",
              " ('night rose', 1),\n",
              " ('meringue volk', 5),\n",
              " ('subtle lily', 1),\n",
              " ('trial package', 26),\n",
              " ('women forget', 1),\n",
              " ('super delicious', 53),\n",
              " ('normal shampoo', 34),\n",
              " ('relieve pain', 2),\n",
              " ('mascara conjures', 85),\n",
              " ('conditioner smells', 120),\n",
              " ('completely free', 17),\n",
              " ('mood kick', 2),\n",
              " ('allergic reactions', 136),\n",
              " ('hands immediately', 10),\n",
              " ('super brown', 5),\n",
              " ('manhattan makeup', 6),\n",
              " ('favorite saleswoman', 1),\n",
              " ('yard live', 1),\n",
              " ('greasy hair', 118),\n",
              " ('spring', 304),\n",
              " ('perfect swing', 19),\n",
              " ('covers super', 174),\n",
              " ('fine perfume', 3),\n",
              " ('bitchy skin', 13),\n",
              " ('skin color', 223),\n",
              " ('hairspray meets', 2),\n",
              " ('dear douglas', 45),\n",
              " ('greasy', 1166),\n",
              " ('feels comfortable', 195),\n",
              " ('relieves wrinkles', 3),\n",
              " ('fresh feeling', 423),\n",
              " ('dream girl', 1),\n",
              " ('significantly longer', 18),\n",
              " ('natural blending', 2),\n",
              " ('kneipp team', 22),\n",
              " ('christmas', 393),\n",
              " ('long-lasting results', 6),\n",
              " ('absolute tip', 1),\n",
              " ('product brings', 8),\n",
              " ('keels product', 1),\n",
              " ('crema recommendation', 1),\n",
              " ('nicely sharpened', 2),\n",
              " ('popular blauring', 1),\n",
              " ('blonde hair', 201),\n",
              " ('incredibly luxurious', 4),\n",
              " ('nice compliments', 13),\n",
              " ('innovative cure', 1),\n",
              " ('well-groomed hair', 170),\n",
              " ('tonic pulls', 1),\n",
              " ('skin flaking', 2),\n",
              " ('top care', 38),\n",
              " ('dior kim', 14),\n",
              " ('simply chanel', 2),\n",
              " ('noticeably softer', 173),\n",
              " ('favorite hand', 14),\n",
              " ('sole shade', 1),\n",
              " ('wonderful volume', 31),\n",
              " ('hairstyle lasts', 59),\n",
              " ('performance fits', 10),\n",
              " ('test schwarzkopf', 10),\n",
              " ('hot days', 169),\n",
              " ('top kajal', 4),\n",
              " ('top definitely', 4),\n",
              " ('simply unique', 88),\n",
              " ('caudal vinoperfect', 2),\n",
              " ('loréal hair', 15),\n",
              " ('soft touch', 43),\n",
              " ('contour palette', 39),\n",
              " ('palette', 1443),\n",
              " ('super perfume', 48),\n",
              " ('amount', 587),\n",
              " ('fruity scent', 183),\n",
              " ('long moisturizing', 1),\n",
              " ('fantastic scents', 3),\n",
              " ('conditioner makes', 157),\n",
              " ('foundation provides', 7),\n",
              " ('product series', 74),\n",
              " ('skin reactions', 17),\n",
              " ('sun shower', 5),\n",
              " ('finest detail', 1),\n",
              " ('golden delicious', 2),\n",
              " ('unbeatable durability', 3),\n",
              " ('powder puff', 39),\n",
              " ('eyes shortly', 1),\n",
              " ('perfect care', 197),\n",
              " ('slightly cute', 44),\n",
              " ('complex leftovers', 3),\n",
              " ('balm', 595),\n",
              " ('magic expensive', 1),\n",
              " ('triangular twist-out', 1),\n",
              " ('removes super', 12),\n",
              " ('finer due', 4),\n",
              " ('dosing exercise', 2),\n",
              " ('cleansing', 678),\n",
              " ('colour difference', 2),\n",
              " ('primer stays', 4),\n",
              " ('easily removes', 40),\n",
              " ('liner terrific', 1),\n",
              " ('little faster', 29),\n",
              " ('soft pink', 47),\n",
              " ('stays perfect', 20),\n",
              " ('eyes burned', 13),\n",
              " ('recommendation', 2238),\n",
              " ('cleans excellently', 6),\n",
              " ('gentle', 969),\n",
              " ('max factor', 397),\n",
              " ('tube designthe', 1),\n",
              " ('razor', 427),\n",
              " ('straight eyelashes', 22),\n",
              " ('enhances care', 1),\n",
              " ('lasting care', 31),\n",
              " ('small wrinkles', 621),\n",
              " ('perfect eyeshadow', 5),\n",
              " ('totally skeptical', 5),\n",
              " ('gloss mask', 8),\n",
              " ('quality', 1859),\n",
              " ('amount applied', 6),\n",
              " ('moisturizer', 403),\n",
              " ('visible clean', 1),\n",
              " ('normal toothbrush', 38),\n",
              " ('volume de', 2),\n",
              " ('stiftung warentest', 5),\n",
              " ('problems', 1157),\n",
              " ('bleeding gums', 122),\n",
              " ('results', 874),\n",
              " ('cheaper price', 7),\n",
              " ('impressed', 951),\n",
              " ('light brushes', 2),\n",
              " ('pocket size', 1),\n",
              " ('favorite care', 30),\n",
              " ('body care', 116),\n",
              " ('chance', 348),\n",
              " ('light hold', 13),\n",
              " ('douglas own', 10),\n",
              " ('cream leaves', 160),\n",
              " ('beautiful tinted', 6),\n",
              " ('soft texture', 130),\n",
              " ('finely ground', 22),\n",
              " ('subtle shine', 40),\n",
              " ('minimizes streaks', 1),\n",
              " ('noticeable cleansing', 1),\n",
              " ('eye stomach', 207),\n",
              " ('nivea scent', 78),\n",
              " ('totally satisfied', 633),\n",
              " ('originally bought', 14),\n",
              " ('perfect coverage', 92),\n",
              " ('skin immediately', 346),\n",
              " ('cleansing gel', 271),\n",
              " ('real wow', 14),\n",
              " ('special care', 50),\n",
              " ('nyx federal', 1),\n",
              " ('thickly sticky', 1),\n",
              " ('toner cleanses', 17),\n",
              " ('lighter skin', 68),\n",
              " ('pleasant handling', 7),\n",
              " ('lip edge', 14),\n",
              " ('perfectly styled', 38),\n",
              " ('shipping box', 4),\n",
              " ('official occasions', 1),\n",
              " ('nicely', 502),\n",
              " ('face quickly', 13),\n",
              " ('spray head', 216),\n",
              " ('helena rubinstein', 56),\n",
              " ('skin actually', 60),\n",
              " ('vitamin pad', 1),\n",
              " ('alert look', 5),\n",
              " ('cream stimulates', 3),\n",
              " ('nice red', 31),\n",
              " ('reordered immediately', 5),\n",
              " ('bit spotty', 5),\n",
              " ('creamy-lifting finish', 2),\n",
              " ('poppy guelfin', 13),\n",
              " ('fresher', 669),\n",
              " ('effect quickly', 3),\n",
              " ('annayake zur', 3),\n",
              " ('look fresher', 86),\n",
              " ('shampoo adds', 7),\n",
              " ('eyecack remover', 1),\n",
              " ('mask effect', 331),\n",
              " ('summery skin', 1),\n",
              " ('perfect touch', 2),\n",
              " ('modern fragrance', 25),\n",
              " ('colour result', 324),\n",
              " ('long term', 189),\n",
              " ('double team', 7),\n",
              " ('applied', 2849),\n",
              " ('total gebar', 61),\n",
              " ('leaves hair', 398),\n",
              " ('sensitive', 591),\n",
              " ('energy multi-lift', 17),\n",
              " ('chance anymore', 1),\n",
              " ('short nails', 9),\n",
              " ('nourishes', 835),\n",
              " ('high-end foundations', 16),\n",
              " ('conventional shampoo', 26),\n",
              " ('mac means', 2),\n",
              " ('alpine white', 1),\n",
              " ('blush', 336),\n",
              " ('quickly despite', 13),\n",
              " ('ultra social', 82),\n",
              " ('major criticisms', 1),\n",
              " ('super makeup', 30),\n",
              " ('immediately fresh', 6),\n",
              " ('sec express', 294),\n",
              " ('damaged hair', 438),\n",
              " ('tanned summer', 5),\n",
              " ('main son', 2),\n",
              " ('super quick', 156),\n",
              " ('pleasantly cooling', 39),\n",
              " ('texture super', 4),\n",
              " ('result terrific', 1),\n",
              " ('mac lipsticks', 353),\n",
              " ('shampoo makes', 145),\n",
              " ('love turmeric', 1),\n",
              " ('feel-good shirt', 6),\n",
              " ('blood organs', 1),\n",
              " ('slightly sensual', 5),\n",
              " ('packaging size', 25),\n",
              " ('chose revitalash', 3),\n",
              " ('pink pepper', 23),\n",
              " ('styling wigs', 1),\n",
              " ('hair sprays', 64),\n",
              " ('quickly', 4063),\n",
              " ('wonderful feminine', 9),\n",
              " ('previous mascara', 8),\n",
              " ('am thrilled', 281),\n",
              " ('concealer anymore', 17),\n",
              " ('applying cream', 349),\n",
              " ('pure shine', 3),\n",
              " ('slightly shimmering', 43),\n",
              " ('glossified power', 1),\n",
              " ('foundation', 3397),\n",
              " ('forward', 438),\n",
              " ('dissipates relatively', 32),\n",
              " ('smudge', 527),\n",
              " ('nice effect', 49),\n",
              " ('oral-b vitality', 20),\n",
              " ('paint', 1243),\n",
              " ('mix', 744),\n",
              " ('tube', 464),\n",
              " ('shelf life', 801),\n",
              " ('fragrance lasts', 538),\n",
              " ('cocoa butter', 14),\n",
              " ('ort thw', 10),\n",
              " ('creamy büderich', 1),\n",
              " ('nose bridges', 1),\n",
              " ('tested mascara', 8),\n",
              " ('soft skin', 419),\n",
              " ('gift club', 1),\n",
              " ('light skin', 1023),\n",
              " ('pump dispenser', 814),\n",
              " ('chanel channel', 1),\n",
              " ('paint smears', 6),\n",
              " ('tut frei', 4),\n",
              " ('aftershave arrived', 1),\n",
              " ('expensive version', 5),\n",
              " ('oriental floral', 20),\n",
              " ('strong color', 87),\n",
              " ('pink sting', 4),\n",
              " ('smell stays', 41),\n",
              " ('eye shadow', 986),\n",
              " ('friss control', 2),\n",
              " ('shine beautifully', 125),\n",
              " ('delicately scented', 33),\n",
              " ('castor oil', 61),\n",
              " ('cushioning effect', 35),\n",
              " ('anastasia beverly', 84),\n",
              " ('long-lasting', 921),\n",
              " ('product sticks', 22),\n",
              " ('high impact', 40),\n",
              " ('hair badly', 1),\n",
              " ('successful product', 84),\n",
              " ('color looks', 302),\n",
              " ('color stays', 95),\n",
              " ('dark shade', 11),\n",
              " ('positive statements', 3),\n",
              " ('hair conditioner', 86),\n",
              " ('solid form', 4),\n",
              " ('nice juice', 1),\n",
              " ('handle', 347),\n",
              " ('extreme sun', 1),\n",
              " ('thick rash', 1),\n",
              " ('cool finish', 1),\n",
              " ('scent smells', 399),\n",
              " ...]"
            ]
          },
          "metadata": {},
          "execution_count": 13
        }
      ]
    },
    {
      "cell_type": "code",
      "source": [
        "con.execute(\"SELECT count(*)\\\n",
        "            FROM test_df_view\")"
      ],
      "metadata": {
        "colab": {
          "base_uri": "https://localhost:8080/"
        },
        "id": "HYAPFXmIr74M",
        "outputId": "4cc431a6-8c91-42c2-e5cf-d89fcd98b1ca"
      },
      "execution_count": 10,
      "outputs": [
        {
          "output_type": "execute_result",
          "data": {
            "text/plain": [
              "<duckdb.DuckDBPyConnection at 0x7f066ea454f0>"
            ]
          },
          "metadata": {},
          "execution_count": 10
        }
      ]
    },
    {
      "cell_type": "code",
      "source": [
        "con.fetchall()"
      ],
      "metadata": {
        "id": "0adIwh0c38zL",
        "colab": {
          "base_uri": "https://localhost:8080/"
        },
        "outputId": "fc65bf09-5b42-4da7-9fc6-0f726d88fed2"
      },
      "execution_count": 11,
      "outputs": [
        {
          "output_type": "execute_result",
          "data": {
            "text/plain": [
              "[(1437057,)]"
            ]
          },
          "metadata": {},
          "execution_count": 11
        }
      ]
    },
    {
      "cell_type": "code",
      "source": [
        ""
      ],
      "metadata": {
        "id": "Cog0bbsnYtmX"
      },
      "execution_count": null,
      "outputs": []
    }
  ]
}